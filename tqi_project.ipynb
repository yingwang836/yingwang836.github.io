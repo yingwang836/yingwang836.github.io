{
 "cells": [
  {
   "cell_type": "code",
   "execution_count": 1,
   "id": "caeb3805",
   "metadata": {},
   "outputs": [
    {
     "name": "stdout",
     "output_type": "stream",
     "text": [
      "Collecting package metadata (current_repodata.json): done\n",
      "Solving environment: failed with initial frozen solve. Retrying with flexible solve.\n",
      "Collecting package metadata (repodata.json): done\n",
      "Solving environment: done\n",
      "\n",
      "## Package Plan ##\n",
      "\n",
      "  environment location: /Users/ywrz/opt/anaconda3\n",
      "\n",
      "  added / updated specs:\n",
      "    - pytorch==2.0.0\n",
      "    - torchaudio==2.0.0\n",
      "    - torchvision==0.15.0\n",
      "\n",
      "\n",
      "The following packages will be downloaded:\n",
      "\n",
      "    package                    |            build\n",
      "    ---------------------------|-----------------\n",
      "    cctools-949.0.1            |      h9abeeb2_23          20 KB\n",
      "    cctools_osx-64-949.0.1     |      hc7db93f_23         1.3 MB\n",
      "    conda-22.9.0               |   py38hecd8cb5_0         884 KB\n",
      "    conda-build-3.24.0         |   py38hecd8cb5_0         570 KB\n",
      "    ld64-530                   |      h20443b4_23          18 KB\n",
      "    ld64_osx-64-530            |      h70f3046_23         919 KB\n",
      "    ldid-2.1.2                 |       h2d21305_2          54 KB\n",
      "    patch-2.7.6                |    h1de35cc_1001         128 KB\n",
      "    pytorch-2.0.0              |          py3.8_0        76.3 MB  pytorch\n",
      "    tapi-1000.10.8             |       ha1b3eb9_0         4.2 MB\n",
      "    tomli-2.0.1                |   py38hecd8cb5_0          25 KB\n",
      "    torchaudio-2.0.0           |         py38_cpu         6.6 MB  pytorch\n",
      "    torchvision-0.15.0         |         py38_cpu         6.4 MB  pytorch\n",
      "    ------------------------------------------------------------\n",
      "                                           Total:        97.4 MB\n",
      "\n",
      "The following NEW packages will be INSTALLED:\n",
      "\n",
      "  cctools            pkgs/main/osx-64::cctools-949.0.1-h9abeeb2_23\n",
      "  cctools_osx-64     pkgs/main/osx-64::cctools_osx-64-949.0.1-hc7db93f_23\n",
      "  ld64               pkgs/main/osx-64::ld64-530-h20443b4_23\n",
      "  ld64_osx-64        pkgs/main/osx-64::ld64_osx-64-530-h70f3046_23\n",
      "  ldid               pkgs/main/osx-64::ldid-2.1.2-h2d21305_2\n",
      "  libllvm12          pkgs/main/osx-64::libllvm12-12.0.0-h9b2ccf5_3\n",
      "  patch              pkgs/main/osx-64::patch-2.7.6-h1de35cc_1001\n",
      "  tapi               pkgs/main/osx-64::tapi-1000.10.8-ha1b3eb9_0\n",
      "  tomli              pkgs/main/osx-64::tomli-2.0.1-py38hecd8cb5_0\n",
      "\n",
      "The following packages will be UPDATED:\n",
      "\n",
      "  conda                               4.13.0-py38hecd8cb5_0 --> 22.9.0-py38hecd8cb5_0\n",
      "  conda-build                         3.21.4-py38hecd8cb5_0 --> 3.24.0-py38hecd8cb5_0\n",
      "  pytorch                                    1.11.0-py3.8_0 --> 2.0.0-py3.8_0\n",
      "  torchaudio                                0.11.0-py38_cpu --> 2.0.0-py38_cpu\n",
      "  torchvision                               0.12.0-py38_cpu --> 0.15.0-py38_cpu\n",
      "\n",
      "\n",
      "\n",
      "Downloading and Extracting Packages\n",
      "conda-build-3.24.0   | 570 KB    | ##################################### | 100% \n",
      "ld64-530             | 18 KB     | ##################################### | 100% \n",
      "patch-2.7.6          | 128 KB    | ##################################### | 100% \n",
      "torchvision-0.15.0   | 6.4 MB    | ##################################### | 100% \n",
      "pytorch-2.0.0        | 76.3 MB   | ##################################### | 100% \n",
      "conda-22.9.0         | 884 KB    | ##################################### | 100% \n",
      "cctools-949.0.1      | 20 KB     | ##################################### | 100% \n",
      "torchaudio-2.0.0     | 6.6 MB    | ##################################### | 100% \n",
      "cctools_osx-64-949.0 | 1.3 MB    | ##################################### | 100% \n",
      "ld64_osx-64-530      | 919 KB    | ##################################### | 100% \n",
      "ldid-2.1.2           | 54 KB     | ##################################### | 100% \n",
      "tapi-1000.10.8       | 4.2 MB    | ##################################### | 100% \n",
      "tomli-2.0.1          | 25 KB     | ##################################### | 100% \n",
      "Preparing transaction: done\n",
      "Verifying transaction: done\n",
      "Executing transaction: done\n",
      "/Users/ywrz/opt/anaconda3/bin/python\n"
     ]
    }
   ],
   "source": [
    "!conda install pytorch==2.0.0 torchvision==0.15.0 torchaudio==2.0.0 -c pytorch --yes\n",
    "\n",
    "\n",
    "import sys\n",
    "print(sys.executable)\n",
    "import math\n",
    "import numpy as np\n",
    "\n",
    "import torch\n",
    "\n",
    "import librosa\n",
    "import IPython.display as ipd\n",
    "import numpy as np\n",
    "\n",
    "import IPython.display as ipd\n",
    "import matplotlib.pyplot as plt\n",
    "import random as raondom\n",
    "\n",
    "from torch.utils.data import random_split\n",
    "\n",
    "from torch.utils.data import DataLoader, Dataset, random_split\n",
    "\n",
    "\n",
    "import os as os\n",
    "\n",
    "from tqdm.notebook import tqdm_notebook\n",
    "import matplotlib.pyplot as plt\n",
    "\n",
    "import random \n",
    "\n",
    "from transformers import AutoConfig, Wav2Vec2Processor, Wav2Vec2FeatureExtractor\n"
   ]
  },
  {
   "cell_type": "code",
   "execution_count": 2,
   "id": "dcfe238e",
   "metadata": {
    "scrolled": false
   },
   "outputs": [
    {
     "name": "stdout",
     "output_type": "stream",
     "text": [
      "2.0.0\n",
      "2.0.0\n"
     ]
    }
   ],
   "source": [
    "import torchaudio\n",
    "\n",
    "\n",
    "import torchaudio.functional as F\n",
    "import torchaudio.transforms as T\n",
    "\n",
    "import torch.nn as nn\n",
    "\n",
    "print(torch.__version__)\n",
    "print(torchaudio.__version__)"
   ]
  },
  {
   "cell_type": "markdown",
   "id": "44520ce2",
   "metadata": {},
   "source": [
    "\n",
    "<span style=\"color:red;font-weight:700;font-size:20px\">\n",
    "mfcc transformation\n",
    "</span>"
   ]
  },
  {
   "cell_type": "code",
   "execution_count": 17,
   "id": "337dca78",
   "metadata": {},
   "outputs": [],
   "source": [
    "#audio_mfcc including adding random number of paddings at front and end \n",
    "import random   \n",
    "def audio_mfcc(sample): \n",
    "    waveform, sample_rate = torchaudio.load(sample)\n",
    "    waveform=waveform[:1,:]\n",
    "    \n",
    "    n_fft = 2048\n",
    "    win_length = None\n",
    "    hop_length = 512\n",
    "    n_mels = 20\n",
    "    n_mfcc = 20\n",
    "\n",
    "    mfcc_transform = T.MFCC(\n",
    "        sample_rate=sample_rate,y\n",
    "        n_mfcc=n_mfcc,\n",
    "        melkwargs={\n",
    "          'n_fft': n_fft,\n",
    "          'n_mels': n_mels,\n",
    "          'hop_length': hop_length,\n",
    "          'mel_scale': 'htk',\n",
    "        }\n",
    "    )\n",
    "\n",
    "    mfcc = mfcc_transform(waveform)\n",
    "    print(mfcc.shape)\n",
    "    #set 1000 windows \n",
    "    if mfcc.shape[2]<1000:\n",
    "        padding_f=random.randint(0,1000-mfcc.shape[2])\n",
    "        padding_r=1000-mfcc.shape[2]-padding_f\n",
    "        front=torch.zeros((1,20,padding_f))\n",
    "        end=torch.zeros((1,20,padding_r))\n",
    "        \n",
    "        mfcc=torch.cat((front,mfcc,end),2)\n",
    "\n",
    "    else:\n",
    "        mfcc=mfcc[:,:,:1000]\n",
    "    return mfcc\n",
    "\n",
    "\n",
    "\n",
    "#audio_mfcc without adding random number of paddings at front and end \n",
    "\n",
    "import random   \n",
    "def audio_mfcc_2(sample): \n",
    "#     waveform, sample_rate = torchaudio.load(sample)\n",
    "#     waveform=waveform[:1,:]\n",
    "    \n",
    "    n_fft = 2048\n",
    "    win_length = None\n",
    "    hop_length = 512\n",
    "    n_mels = 20\n",
    "    n_mfcc = 20\n",
    "\n",
    "    mfcc_transform = T.MFCC(\n",
    "        sample_rate=sample_rate,\n",
    "        n_mfcc=n_mfcc,\n",
    "        melkwargs={\n",
    "          'n_fft': n_fft,\n",
    "          'n_mels': n_mels,\n",
    "          'hop_length': hop_length,\n",
    "          'mel_scale': 'htk',\n",
    "        }\n",
    "    )\n",
    "\n",
    "    mfcc = mfcc_transform(sample)\n",
    "\n",
    "    return mfcc\n",
    "\n"
   ]
  },
  {
   "cell_type": "markdown",
   "id": "6789c6f5",
   "metadata": {},
   "source": [
    "<span style=\"color:green;font-weight:1800;font-size:30px\">\n",
    "labels reading from Json \n",
    "</span><br/><br/>\n",
    "<span style=\"color:red;font-weight:700;font-size:20px\">\n",
    "\n",
    "</span>"
   ]
  },
  {
   "cell_type": "code",
   "execution_count": 3,
   "id": "b6f491cd",
   "metadata": {},
   "outputs": [
    {
     "name": "stdout",
     "output_type": "stream",
     "text": [
      "Pegah Moghaddam    320\n",
      "Yared Alemu         18\n",
      "Michelle Lyn        29\n",
      "Sedara Burson       66\n",
      "dtype: int64\n"
     ]
    }
   ],
   "source": [
    "# showing NaN labels for each psychatrist\n",
    "import pandas as pd\n",
    "df = pd.read_json('voice_labels.json', orient ='index')\n",
    "values={'fear':'none' ,'anger': 'none','happy': 'none','neutral': 'none','sadness':'none'}\n",
    "values={'fear':math.nan ,'anger':math.nan,'happy':math.nan,'neutral':math.nan,'sadness':math.nan}\n",
    "print(df.isna().sum())\n",
    "\n",
    "\n",
    "df.columns=['P','Y','M','S'] \n",
    "for i in df.columns:\n",
    "    df[i]=df[i].apply(lambda x:values if x!=x else x) \n",
    "\n",
    "\n"
   ]
  },
  {
   "cell_type": "markdown",
   "id": "d896d9b5",
   "metadata": {},
   "source": [
    "\n",
    "<span style=\"color:green;font-weight:1800;font-size:20px\">\n",
    "mean opinion for 'fear', 'sadness' and 'anger' across 4 experts\n",
    "</span>"
   ]
  },
  {
   "cell_type": "code",
   "execution_count": 6,
   "id": "5b33aabd",
   "metadata": {},
   "outputs": [
    {
     "data": {
      "text/plain": [
       "[1940_39117_1161625039.wav         3.0\n",
       " 6529_53113_3443309365.wav         3.0\n",
       " 9926_39117_1370960430.wav         3.0\n",
       " 4205_39117_2156262111.wav         2.0\n",
       " 65308_26501_3048138818.wav        3.0\n",
       "                                  ... \n",
       " 4538_53113_1601424000.m4a         NaN\n",
       " 1491497_RDR1001_4139736786.wav    NaN\n",
       " 296_SRC1001_108957776.wav         NaN\n",
       " 2015066_SK1001_979462084.wav      NaN\n",
       " 2527_GS1001_399191702.wav         NaN\n",
       " Name: sadness, Length: 1055, dtype: float64,\n",
       " 1940_39117_1161625039.wav         2.0\n",
       " 6529_53113_3443309365.wav         2.0\n",
       " 9926_39117_1370960430.wav         3.0\n",
       " 4205_39117_2156262111.wav         2.0\n",
       " 65308_26501_3048138818.wav        NaN\n",
       "                                  ... \n",
       " 4538_53113_1601424000.m4a         2.0\n",
       " 1491497_RDR1001_4139736786.wav    2.0\n",
       " 296_SRC1001_108957776.wav         2.0\n",
       " 2015066_SK1001_979462084.wav      2.0\n",
       " 2527_GS1001_399191702.wav         NaN\n",
       " Name: sadness, Length: 1055, dtype: float64,\n",
       " 1940_39117_1161625039.wav         0.0\n",
       " 6529_53113_3443309365.wav         3.0\n",
       " 9926_39117_1370960430.wav         3.0\n",
       " 4205_39117_2156262111.wav         1.0\n",
       " 65308_26501_3048138818.wav        NaN\n",
       "                                  ... \n",
       " 4538_53113_1601424000.m4a         2.0\n",
       " 1491497_RDR1001_4139736786.wav    1.0\n",
       " 296_SRC1001_108957776.wav         NaN\n",
       " 2015066_SK1001_979462084.wav      2.0\n",
       " 2527_GS1001_399191702.wav         0.0\n",
       " Name: sadness, Length: 1055, dtype: float64,\n",
       " 1940_39117_1161625039.wav         0.0\n",
       " 6529_53113_3443309365.wav         1.0\n",
       " 9926_39117_1370960430.wav         1.0\n",
       " 4205_39117_2156262111.wav         1.0\n",
       " 65308_26501_3048138818.wav        NaN\n",
       "                                  ... \n",
       " 4538_53113_1601424000.m4a         2.0\n",
       " 1491497_RDR1001_4139736786.wav    1.0\n",
       " 296_SRC1001_108957776.wav         0.0\n",
       " 2015066_SK1001_979462084.wav      NaN\n",
       " 2527_GS1001_399191702.wav         NaN\n",
       " Name: sadness, Length: 1055, dtype: float64]"
      ]
     },
     "execution_count": 6,
     "metadata": {},
     "output_type": "execute_result"
    }
   ],
   "source": [
    "df_list=[]\n",
    "for i in df.columns:\n",
    "#     temp_df=pd.DataFrame(df[i].apply(pd.Series))\n",
    "#     temp_df.replace({'high':3,'medium':2,'low':1,'none':0},inplace=True)\n",
    "#     df_list.append(temp_df)\n",
    "\n",
    "    temp_df=df[i].apply(pd.Series)\n",
    "    temp_df.replace({'high':3,'medium':2,'low':1,'none':0},inplace=True)\n",
    "    df_fear=temp_df['sadness']\n",
    "    df_list.append(df_fear)\n",
    "df_fear=pd.DataFrame({'P':df_list[0],'Y':df_list[1],'M':df_list[2],'S':df_list[3]})\n",
    "mean_fear=pd.DataFrame(pd.DataFrame.mean(df_fear,axis=1))\n",
    "\n",
    "mean_fear=mean_fear.reset_index()\n",
    "mean_fear.columns=['path','label_ID']\n",
    "mean_fear.replace({'m4a':'wav'}, regex=True,inplace=True)\n",
    "mean_sadness=round(mean_fear).astype({'label_ID':int})\n",
    "df_list"
   ]
  },
  {
   "cell_type": "code",
   "execution_count": 5,
   "id": "44c9a3e9",
   "metadata": {},
   "outputs": [],
   "source": [
    "df_list=[]\n",
    "for i in df.columns:\n",
    "#     temp_df=pd.DataFrame(df[i].apply(pd.Series))\n",
    "#     temp_df.replace({'high':3,'medium':2,'low':1,'none':0},inplace=True)\n",
    "#     df_list.append(temp_df)\n",
    "\n",
    "    temp_df=df[i].apply(pd.Series)\n",
    "    temp_df.replace({'high':3,'medium':2,'low':1,'none':0},inplace=True)\n",
    "    df_fear=temp_df['anger']\n",
    "    df_list.append(df_fear)\n",
    "\n",
    "df_fear=pd.DataFrame({'P':df_list[0],'Y':df_list[1],'M':df_list[2],'S':df_list[3]})\n",
    "mean_fear=pd.DataFrame(pd.DataFrame.mean(df_fear,axis=1))\n",
    "\n",
    "mean_fear=mean_fear.reset_index()\n",
    "mean_fear.columns=['path','label_ID']\n",
    "mean_fear.replace({'m4a':'wav'}, regex=True,inplace=True)\n",
    "mean_anger=round(mean_fear).astype({'label_ID':int})"
   ]
  },
  {
   "cell_type": "code",
   "execution_count": 8,
   "id": "3ef45c70",
   "metadata": {},
   "outputs": [],
   "source": [
    "df_list=[]\n",
    "for i in df.columns:\n",
    "#     temp_df=pd.DataFrame(df[i].apply(pd.Series))\n",
    "#     temp_df.replace({'high':3,'medium':2,'low':1,'none':0},inplace=True)\n",
    "#     df_list.append(temp_df)\n",
    "\n",
    "    temp_df=df[i].apply(pd.Series)\n",
    "    temp_df.replace({'high':3,'medium':2,'low':1,'none':0},inplace=True)\n",
    "    \n",
    "    df_fear=temp_df['fear']\n",
    "    df_list.append(df_fear)\n",
    "    \n",
    "df_fear=pd.DataFrame({'P':df_list[0],'Y':df_list[1],'M':df_list[2],'S':df_list[3]})\n",
    "mean_fear=pd.DataFrame(pd.DataFrame.mean(df_fear,axis=1))\n",
    "\n",
    "mean_fear=mean_fear.reset_index()\n",
    "mean_fear.columns=['path','label_ID']\n",
    "mean_fear.replace({'m4a':'wav'}, regex=True,inplace=True)\n",
    "mean_fear=round(mean_fear).astype({'label_ID':int})"
   ]
  },
  {
   "cell_type": "code",
   "execution_count": 9,
   "id": "d14f9118",
   "metadata": {},
   "outputs": [
    {
     "data": {
      "text/html": [
       "<div>\n",
       "<style scoped>\n",
       "    .dataframe tbody tr th:only-of-type {\n",
       "        vertical-align: middle;\n",
       "    }\n",
       "\n",
       "    .dataframe tbody tr th {\n",
       "        vertical-align: top;\n",
       "    }\n",
       "\n",
       "    .dataframe thead th {\n",
       "        text-align: right;\n",
       "    }\n",
       "</style>\n",
       "<table border=\"1\" class=\"dataframe\">\n",
       "  <thead>\n",
       "    <tr style=\"text-align: right;\">\n",
       "      <th></th>\n",
       "      <th>path</th>\n",
       "      <th>label_ID</th>\n",
       "    </tr>\n",
       "  </thead>\n",
       "  <tbody>\n",
       "    <tr>\n",
       "      <th>0</th>\n",
       "      <td>1940_39117_1161625039.wav</td>\n",
       "      <td>1</td>\n",
       "    </tr>\n",
       "    <tr>\n",
       "      <th>1</th>\n",
       "      <td>6529_53113_3443309365.wav</td>\n",
       "      <td>2</td>\n",
       "    </tr>\n",
       "    <tr>\n",
       "      <th>2</th>\n",
       "      <td>9926_39117_1370960430.wav</td>\n",
       "      <td>2</td>\n",
       "    </tr>\n",
       "    <tr>\n",
       "      <th>3</th>\n",
       "      <td>4205_39117_2156262111.wav</td>\n",
       "      <td>2</td>\n",
       "    </tr>\n",
       "    <tr>\n",
       "      <th>4</th>\n",
       "      <td>65308_26501_3048138818.wav</td>\n",
       "      <td>3</td>\n",
       "    </tr>\n",
       "    <tr>\n",
       "      <th>...</th>\n",
       "      <td>...</td>\n",
       "      <td>...</td>\n",
       "    </tr>\n",
       "    <tr>\n",
       "      <th>1050</th>\n",
       "      <td>4538_53113_1601424000.wav</td>\n",
       "      <td>2</td>\n",
       "    </tr>\n",
       "    <tr>\n",
       "      <th>1051</th>\n",
       "      <td>1491497_RDR1001_4139736786.wav</td>\n",
       "      <td>1</td>\n",
       "    </tr>\n",
       "    <tr>\n",
       "      <th>1052</th>\n",
       "      <td>296_SRC1001_108957776.wav</td>\n",
       "      <td>1</td>\n",
       "    </tr>\n",
       "    <tr>\n",
       "      <th>1053</th>\n",
       "      <td>2015066_SK1001_979462084.wav</td>\n",
       "      <td>2</td>\n",
       "    </tr>\n",
       "    <tr>\n",
       "      <th>1054</th>\n",
       "      <td>2527_GS1001_399191702.wav</td>\n",
       "      <td>0</td>\n",
       "    </tr>\n",
       "  </tbody>\n",
       "</table>\n",
       "<p>1055 rows × 2 columns</p>\n",
       "</div>"
      ],
      "text/plain": [
       "                                path  label_ID\n",
       "0          1940_39117_1161625039.wav         1\n",
       "1          6529_53113_3443309365.wav         2\n",
       "2          9926_39117_1370960430.wav         2\n",
       "3          4205_39117_2156262111.wav         2\n",
       "4         65308_26501_3048138818.wav         3\n",
       "...                              ...       ...\n",
       "1050       4538_53113_1601424000.wav         2\n",
       "1051  1491497_RDR1001_4139736786.wav         1\n",
       "1052       296_SRC1001_108957776.wav         1\n",
       "1053    2015066_SK1001_979462084.wav         2\n",
       "1054       2527_GS1001_399191702.wav         0\n",
       "\n",
       "[1055 rows x 2 columns]"
      ]
     },
     "metadata": {},
     "output_type": "display_data"
    },
    {
     "data": {
      "text/html": [
       "<div>\n",
       "<style scoped>\n",
       "    .dataframe tbody tr th:only-of-type {\n",
       "        vertical-align: middle;\n",
       "    }\n",
       "\n",
       "    .dataframe tbody tr th {\n",
       "        vertical-align: top;\n",
       "    }\n",
       "\n",
       "    .dataframe thead th {\n",
       "        text-align: right;\n",
       "    }\n",
       "</style>\n",
       "<table border=\"1\" class=\"dataframe\">\n",
       "  <thead>\n",
       "    <tr style=\"text-align: right;\">\n",
       "      <th></th>\n",
       "      <th>path</th>\n",
       "      <th>label_ID</th>\n",
       "    </tr>\n",
       "  </thead>\n",
       "  <tbody>\n",
       "    <tr>\n",
       "      <th>0</th>\n",
       "      <td>1940_39117_1161625039.wav</td>\n",
       "      <td>1</td>\n",
       "    </tr>\n",
       "    <tr>\n",
       "      <th>1</th>\n",
       "      <td>6529_53113_3443309365.wav</td>\n",
       "      <td>1</td>\n",
       "    </tr>\n",
       "    <tr>\n",
       "      <th>2</th>\n",
       "      <td>9926_39117_1370960430.wav</td>\n",
       "      <td>1</td>\n",
       "    </tr>\n",
       "    <tr>\n",
       "      <th>3</th>\n",
       "      <td>4205_39117_2156262111.wav</td>\n",
       "      <td>1</td>\n",
       "    </tr>\n",
       "    <tr>\n",
       "      <th>4</th>\n",
       "      <td>65308_26501_3048138818.wav</td>\n",
       "      <td>3</td>\n",
       "    </tr>\n",
       "    <tr>\n",
       "      <th>...</th>\n",
       "      <td>...</td>\n",
       "      <td>...</td>\n",
       "    </tr>\n",
       "    <tr>\n",
       "      <th>1050</th>\n",
       "      <td>4538_53113_1601424000.wav</td>\n",
       "      <td>1</td>\n",
       "    </tr>\n",
       "    <tr>\n",
       "      <th>1051</th>\n",
       "      <td>1491497_RDR1001_4139736786.wav</td>\n",
       "      <td>1</td>\n",
       "    </tr>\n",
       "    <tr>\n",
       "      <th>1052</th>\n",
       "      <td>296_SRC1001_108957776.wav</td>\n",
       "      <td>1</td>\n",
       "    </tr>\n",
       "    <tr>\n",
       "      <th>1053</th>\n",
       "      <td>2015066_SK1001_979462084.wav</td>\n",
       "      <td>0</td>\n",
       "    </tr>\n",
       "    <tr>\n",
       "      <th>1054</th>\n",
       "      <td>2527_GS1001_399191702.wav</td>\n",
       "      <td>1</td>\n",
       "    </tr>\n",
       "  </tbody>\n",
       "</table>\n",
       "<p>1055 rows × 2 columns</p>\n",
       "</div>"
      ],
      "text/plain": [
       "                                path  label_ID\n",
       "0          1940_39117_1161625039.wav         1\n",
       "1          6529_53113_3443309365.wav         1\n",
       "2          9926_39117_1370960430.wav         1\n",
       "3          4205_39117_2156262111.wav         1\n",
       "4         65308_26501_3048138818.wav         3\n",
       "...                              ...       ...\n",
       "1050       4538_53113_1601424000.wav         1\n",
       "1051  1491497_RDR1001_4139736786.wav         1\n",
       "1052       296_SRC1001_108957776.wav         1\n",
       "1053    2015066_SK1001_979462084.wav         0\n",
       "1054       2527_GS1001_399191702.wav         1\n",
       "\n",
       "[1055 rows x 2 columns]"
      ]
     },
     "metadata": {},
     "output_type": "display_data"
    },
    {
     "data": {
      "text/html": [
       "<div>\n",
       "<style scoped>\n",
       "    .dataframe tbody tr th:only-of-type {\n",
       "        vertical-align: middle;\n",
       "    }\n",
       "\n",
       "    .dataframe tbody tr th {\n",
       "        vertical-align: top;\n",
       "    }\n",
       "\n",
       "    .dataframe thead th {\n",
       "        text-align: right;\n",
       "    }\n",
       "</style>\n",
       "<table border=\"1\" class=\"dataframe\">\n",
       "  <thead>\n",
       "    <tr style=\"text-align: right;\">\n",
       "      <th></th>\n",
       "      <th>path</th>\n",
       "      <th>label_ID</th>\n",
       "    </tr>\n",
       "  </thead>\n",
       "  <tbody>\n",
       "    <tr>\n",
       "      <th>0</th>\n",
       "      <td>1940_39117_1161625039.wav</td>\n",
       "      <td>2</td>\n",
       "    </tr>\n",
       "    <tr>\n",
       "      <th>1</th>\n",
       "      <td>6529_53113_3443309365.wav</td>\n",
       "      <td>2</td>\n",
       "    </tr>\n",
       "    <tr>\n",
       "      <th>2</th>\n",
       "      <td>9926_39117_1370960430.wav</td>\n",
       "      <td>2</td>\n",
       "    </tr>\n",
       "    <tr>\n",
       "      <th>3</th>\n",
       "      <td>4205_39117_2156262111.wav</td>\n",
       "      <td>2</td>\n",
       "    </tr>\n",
       "    <tr>\n",
       "      <th>4</th>\n",
       "      <td>65308_26501_3048138818.wav</td>\n",
       "      <td>3</td>\n",
       "    </tr>\n",
       "    <tr>\n",
       "      <th>...</th>\n",
       "      <td>...</td>\n",
       "      <td>...</td>\n",
       "    </tr>\n",
       "    <tr>\n",
       "      <th>1050</th>\n",
       "      <td>4538_53113_1601424000.wav</td>\n",
       "      <td>1</td>\n",
       "    </tr>\n",
       "    <tr>\n",
       "      <th>1051</th>\n",
       "      <td>1491497_RDR1001_4139736786.wav</td>\n",
       "      <td>2</td>\n",
       "    </tr>\n",
       "    <tr>\n",
       "      <th>1052</th>\n",
       "      <td>296_SRC1001_108957776.wav</td>\n",
       "      <td>1</td>\n",
       "    </tr>\n",
       "    <tr>\n",
       "      <th>1053</th>\n",
       "      <td>2015066_SK1001_979462084.wav</td>\n",
       "      <td>2</td>\n",
       "    </tr>\n",
       "    <tr>\n",
       "      <th>1054</th>\n",
       "      <td>2527_GS1001_399191702.wav</td>\n",
       "      <td>0</td>\n",
       "    </tr>\n",
       "  </tbody>\n",
       "</table>\n",
       "<p>1055 rows × 2 columns</p>\n",
       "</div>"
      ],
      "text/plain": [
       "                                path  label_ID\n",
       "0          1940_39117_1161625039.wav         2\n",
       "1          6529_53113_3443309365.wav         2\n",
       "2          9926_39117_1370960430.wav         2\n",
       "3          4205_39117_2156262111.wav         2\n",
       "4         65308_26501_3048138818.wav         3\n",
       "...                              ...       ...\n",
       "1050       4538_53113_1601424000.wav         1\n",
       "1051  1491497_RDR1001_4139736786.wav         2\n",
       "1052       296_SRC1001_108957776.wav         1\n",
       "1053    2015066_SK1001_979462084.wav         2\n",
       "1054       2527_GS1001_399191702.wav         0\n",
       "\n",
       "[1055 rows x 2 columns]"
      ]
     },
     "metadata": {},
     "output_type": "display_data"
    }
   ],
   "source": [
    "# Tables for reding\n",
    "display(mean_sadness)\n",
    "display(mean_anger)\n",
    "display(mean_fear)"
   ]
  },
  {
   "cell_type": "markdown",
   "id": "6843cddb",
   "metadata": {},
   "source": [
    "<span style=\"color:green;font-weight:1800;font-size:20px\">\n",
    "Randomly picking 844 samples fro training for 'fear','sadness','anger'\n",
    "</span><br/><br/>\n",
    "<span style=\"color:green;font-weight:700;font-size:15px\">Each dataset expand for five times </span>"
   ]
  },
  {
   "cell_type": "code",
   "execution_count": 17,
   "id": "b25224b6",
   "metadata": {},
   "outputs": [],
   "source": [
    "#genrate \n",
    "a=list(range(1055))\n",
    "random.shuffle(a)"
   ]
  },
  {
   "cell_type": "code",
   "execution_count": 883,
   "id": "3c07de96",
   "metadata": {},
   "outputs": [
    {
     "data": {
      "text/html": [
       "<div>\n",
       "<style scoped>\n",
       "    .dataframe tbody tr th:only-of-type {\n",
       "        vertical-align: middle;\n",
       "    }\n",
       "\n",
       "    .dataframe tbody tr th {\n",
       "        vertical-align: top;\n",
       "    }\n",
       "\n",
       "    .dataframe thead th {\n",
       "        text-align: right;\n",
       "    }\n",
       "</style>\n",
       "<table border=\"1\" class=\"dataframe\">\n",
       "  <thead>\n",
       "    <tr style=\"text-align: right;\">\n",
       "      <th></th>\n",
       "      <th>path</th>\n",
       "      <th>label_ID</th>\n",
       "    </tr>\n",
       "  </thead>\n",
       "  <tbody>\n",
       "    <tr>\n",
       "      <th>644</th>\n",
       "      <td>57545_39117_1592352000.wav</td>\n",
       "      <td>2</td>\n",
       "    </tr>\n",
       "    <tr>\n",
       "      <th>799</th>\n",
       "      <td>4493_53113_1589846400.wav</td>\n",
       "      <td>2</td>\n",
       "    </tr>\n",
       "    <tr>\n",
       "      <th>560</th>\n",
       "      <td>1940_39117_1130261374.wav</td>\n",
       "      <td>1</td>\n",
       "    </tr>\n",
       "    <tr>\n",
       "      <th>528</th>\n",
       "      <td>1940_39117_1603584000.wav</td>\n",
       "      <td>1</td>\n",
       "    </tr>\n",
       "    <tr>\n",
       "      <th>661</th>\n",
       "      <td>1493767_RDR1001_3432834742.wav</td>\n",
       "      <td>2</td>\n",
       "    </tr>\n",
       "    <tr>\n",
       "      <th>...</th>\n",
       "      <td>...</td>\n",
       "      <td>...</td>\n",
       "    </tr>\n",
       "    <tr>\n",
       "      <th>964</th>\n",
       "      <td>6709_53113_1576195200.wav</td>\n",
       "      <td>3</td>\n",
       "    </tr>\n",
       "    <tr>\n",
       "      <th>25</th>\n",
       "      <td>8953_39117_4158290298.wav</td>\n",
       "      <td>0</td>\n",
       "    </tr>\n",
       "    <tr>\n",
       "      <th>1025</th>\n",
       "      <td>4644_53113_1588204800.wav</td>\n",
       "      <td>0</td>\n",
       "    </tr>\n",
       "    <tr>\n",
       "      <th>643</th>\n",
       "      <td>57545_39117_1592265600.wav</td>\n",
       "      <td>2</td>\n",
       "    </tr>\n",
       "    <tr>\n",
       "      <th>589</th>\n",
       "      <td>9926_39117_702131520.wav</td>\n",
       "      <td>1</td>\n",
       "    </tr>\n",
       "  </tbody>\n",
       "</table>\n",
       "<p>4220 rows × 2 columns</p>\n",
       "</div>"
      ],
      "text/plain": [
       "                                path  label_ID\n",
       "644       57545_39117_1592352000.wav         2\n",
       "799        4493_53113_1589846400.wav         2\n",
       "560        1940_39117_1130261374.wav         1\n",
       "528        1940_39117_1603584000.wav         1\n",
       "661   1493767_RDR1001_3432834742.wav         2\n",
       "...                              ...       ...\n",
       "964        6709_53113_1576195200.wav         3\n",
       "25         8953_39117_4158290298.wav         0\n",
       "1025       4644_53113_1588204800.wav         0\n",
       "643       57545_39117_1592265600.wav         2\n",
       "589         9926_39117_702131520.wav         1\n",
       "\n",
       "[4220 rows x 2 columns]"
      ]
     },
     "execution_count": 883,
     "metadata": {},
     "output_type": "execute_result"
    }
   ],
   "source": [
    "#picking \n",
    "mean_sadness_train=mean_sadness.iloc[a[:844],:]\n",
    "mean_sadness_test=mean_sadness.iloc[a[844:],:]\n",
    "mean_sadness_5=pd.concat([mean_sadness_train,mean_sadness_train,mean_sadness_train,mean_sadness_train,mean_sadness_train,])\n",
    "mean_sadness_5"
   ]
  },
  {
   "cell_type": "code",
   "execution_count": 1035,
   "id": "ef824aa3",
   "metadata": {},
   "outputs": [
    {
     "data": {
      "text/html": [
       "<div>\n",
       "<style scoped>\n",
       "    .dataframe tbody tr th:only-of-type {\n",
       "        vertical-align: middle;\n",
       "    }\n",
       "\n",
       "    .dataframe tbody tr th {\n",
       "        vertical-align: top;\n",
       "    }\n",
       "\n",
       "    .dataframe thead th {\n",
       "        text-align: right;\n",
       "    }\n",
       "</style>\n",
       "<table border=\"1\" class=\"dataframe\">\n",
       "  <thead>\n",
       "    <tr style=\"text-align: right;\">\n",
       "      <th></th>\n",
       "      <th>path</th>\n",
       "      <th>label_ID</th>\n",
       "    </tr>\n",
       "  </thead>\n",
       "  <tbody>\n",
       "    <tr>\n",
       "      <th>829</th>\n",
       "      <td>6461_39117_4106733806.wav</td>\n",
       "      <td>1</td>\n",
       "    </tr>\n",
       "    <tr>\n",
       "      <th>430</th>\n",
       "      <td>73042_72285_912404363.wav</td>\n",
       "      <td>1</td>\n",
       "    </tr>\n",
       "    <tr>\n",
       "      <th>968</th>\n",
       "      <td>6709_53113_1581638400.wav</td>\n",
       "      <td>1</td>\n",
       "    </tr>\n",
       "    <tr>\n",
       "      <th>200</th>\n",
       "      <td>55119_53113_1571270400.wav</td>\n",
       "      <td>1</td>\n",
       "    </tr>\n",
       "    <tr>\n",
       "      <th>347</th>\n",
       "      <td>8161_39117_640821667.wav</td>\n",
       "      <td>2</td>\n",
       "    </tr>\n",
       "    <tr>\n",
       "      <th>...</th>\n",
       "      <td>...</td>\n",
       "      <td>...</td>\n",
       "    </tr>\n",
       "    <tr>\n",
       "      <th>604</th>\n",
       "      <td>139_39117_1589414400.wav</td>\n",
       "      <td>0</td>\n",
       "    </tr>\n",
       "    <tr>\n",
       "      <th>660</th>\n",
       "      <td>6461_39117_1694199414.wav</td>\n",
       "      <td>0</td>\n",
       "    </tr>\n",
       "    <tr>\n",
       "      <th>248</th>\n",
       "      <td>140406_53113_1573516800.wav</td>\n",
       "      <td>2</td>\n",
       "    </tr>\n",
       "    <tr>\n",
       "      <th>783</th>\n",
       "      <td>8447_53113_1599609600.wav</td>\n",
       "      <td>1</td>\n",
       "    </tr>\n",
       "    <tr>\n",
       "      <th>316</th>\n",
       "      <td>38521_53113_1570579200.wav</td>\n",
       "      <td>1</td>\n",
       "    </tr>\n",
       "  </tbody>\n",
       "</table>\n",
       "<p>4220 rows × 2 columns</p>\n",
       "</div>"
      ],
      "text/plain": [
       "                            path  label_ID\n",
       "829    6461_39117_4106733806.wav         1\n",
       "430    73042_72285_912404363.wav         1\n",
       "968    6709_53113_1581638400.wav         1\n",
       "200   55119_53113_1571270400.wav         1\n",
       "347     8161_39117_640821667.wav         2\n",
       "..                           ...       ...\n",
       "604     139_39117_1589414400.wav         0\n",
       "660    6461_39117_1694199414.wav         0\n",
       "248  140406_53113_1573516800.wav         2\n",
       "783    8447_53113_1599609600.wav         1\n",
       "316   38521_53113_1570579200.wav         1\n",
       "\n",
       "[4220 rows x 2 columns]"
      ]
     },
     "execution_count": 1035,
     "metadata": {},
     "output_type": "execute_result"
    }
   ],
   "source": [
    "a=list(range(1055))\n",
    "random.shuffle(a)\n",
    "mean_anger_train=mean_anger.iloc[a[:844],:]\n",
    "mean_anger_test=mean_anger.iloc[a[844:],:]\n",
    "mean_anger_5=pd.concat([mean_anger_train,mean_anger_train,mean_anger_train,mean_anger_train,mean_anger_train])\n",
    "mean_anger_5"
   ]
  },
  {
   "cell_type": "code",
   "execution_count": 1201,
   "id": "f2a754bc",
   "metadata": {},
   "outputs": [
    {
     "data": {
      "text/html": [
       "<div>\n",
       "<style scoped>\n",
       "    .dataframe tbody tr th:only-of-type {\n",
       "        vertical-align: middle;\n",
       "    }\n",
       "\n",
       "    .dataframe tbody tr th {\n",
       "        vertical-align: top;\n",
       "    }\n",
       "\n",
       "    .dataframe thead th {\n",
       "        text-align: right;\n",
       "    }\n",
       "</style>\n",
       "<table border=\"1\" class=\"dataframe\">\n",
       "  <thead>\n",
       "    <tr style=\"text-align: right;\">\n",
       "      <th></th>\n",
       "      <th>path</th>\n",
       "      <th>label_ID</th>\n",
       "    </tr>\n",
       "  </thead>\n",
       "  <tbody>\n",
       "    <tr>\n",
       "      <th>1</th>\n",
       "      <td>6529_53113_3443309365.wav</td>\n",
       "      <td>2</td>\n",
       "    </tr>\n",
       "    <tr>\n",
       "      <th>389</th>\n",
       "      <td>5370_39117_199618701.wav</td>\n",
       "      <td>1</td>\n",
       "    </tr>\n",
       "    <tr>\n",
       "      <th>611</th>\n",
       "      <td>139_39117_1597881600.wav</td>\n",
       "      <td>1</td>\n",
       "    </tr>\n",
       "    <tr>\n",
       "      <th>993</th>\n",
       "      <td>6529_53113_1606089600.wav</td>\n",
       "      <td>1</td>\n",
       "    </tr>\n",
       "    <tr>\n",
       "      <th>951</th>\n",
       "      <td>6708_53113_1580428800.wav</td>\n",
       "      <td>1</td>\n",
       "    </tr>\n",
       "    <tr>\n",
       "      <th>...</th>\n",
       "      <td>...</td>\n",
       "      <td>...</td>\n",
       "    </tr>\n",
       "    <tr>\n",
       "      <th>718</th>\n",
       "      <td>1967_SK1001_2161601137.wav</td>\n",
       "      <td>1</td>\n",
       "    </tr>\n",
       "    <tr>\n",
       "      <th>935</th>\n",
       "      <td>4644_53113_1594598400.wav</td>\n",
       "      <td>0</td>\n",
       "    </tr>\n",
       "    <tr>\n",
       "      <th>361</th>\n",
       "      <td>8953_39117_2918230285.wav</td>\n",
       "      <td>1</td>\n",
       "    </tr>\n",
       "    <tr>\n",
       "      <th>263</th>\n",
       "      <td>55035_53113_1572912000.wav</td>\n",
       "      <td>1</td>\n",
       "    </tr>\n",
       "    <tr>\n",
       "      <th>227</th>\n",
       "      <td>53756_53796_1568246400.wav</td>\n",
       "      <td>1</td>\n",
       "    </tr>\n",
       "  </tbody>\n",
       "</table>\n",
       "<p>4220 rows × 2 columns</p>\n",
       "</div>"
      ],
      "text/plain": [
       "                           path  label_ID\n",
       "1     6529_53113_3443309365.wav         2\n",
       "389    5370_39117_199618701.wav         1\n",
       "611    139_39117_1597881600.wav         1\n",
       "993   6529_53113_1606089600.wav         1\n",
       "951   6708_53113_1580428800.wav         1\n",
       "..                          ...       ...\n",
       "718  1967_SK1001_2161601137.wav         1\n",
       "935   4644_53113_1594598400.wav         0\n",
       "361   8953_39117_2918230285.wav         1\n",
       "263  55035_53113_1572912000.wav         1\n",
       "227  53756_53796_1568246400.wav         1\n",
       "\n",
       "[4220 rows x 2 columns]"
      ]
     },
     "execution_count": 1201,
     "metadata": {},
     "output_type": "execute_result"
    }
   ],
   "source": [
    "mean_fear_train=mean_fear.iloc[a[:844],:]\n",
    "mean_fear_test=mean_fear.iloc[a[844:],:]\n",
    "mean_fear_5=pd.concat([mean_fear_train,mean_fear_train,mean_fear_train,mean_fear_train,mean_fear_train])\n",
    "mean_fear_5"
   ]
  },
  {
   "cell_type": "markdown",
   "id": "96951d70",
   "metadata": {},
   "source": [
    "<span style=\"color:green;font-weight:1800;font-size:20px\">\n",
    "Dataset generation for sadness/anger/fear\n",
    "</span> <br/><br/>\n",
    "<span style=\"color:green;font-weight:700;font-size:15px\">five segments were picked from one sample</span>"
   ]
  },
  {
   "cell_type": "code",
   "execution_count": 1093,
   "id": "97b286e8",
   "metadata": {},
   "outputs": [],
   "source": [
    "\n",
    "#dataset 1 to include all the transformed tensors for local use\n",
    "from torch.utils.data import DataLoader, Dataset, random_split\n",
    "import torchaudio\n",
    "\n",
    "# ----------------------------\n",
    "# Sound Dataset\n",
    "# ----------------------------\n",
    "class TQI_DS_2(Dataset):\n",
    "    def __init__(self, df_lable, data_path='',prefix='16Khz_'):\n",
    "        self.df = df_lable \n",
    "        self.data_path = str(data_path)\n",
    "        self.prefix=prefix\n",
    "\n",
    "  # ----------------------------\n",
    "  # Number of items in dataset\n",
    "  # ----------------------------\n",
    "    def __len__(self):\n",
    "        return len(self.df) \n",
    "    \n",
    "  # ----------------------------\n",
    "  # Get i'th item in dataset\n",
    "  # ----------------------------\n",
    "    def __getitem__(self, idx):\n",
    "    # Absolute file path of the audio file - concatenate the audio directory with\n",
    "    # the relative path\n",
    "       \n",
    "        audio_file = self.data_path + self.prefix+ self.df.loc[idx, 'path']\n",
    "        waveform,_ = torchaudio.load(audio_file)\n",
    "        waveform=waveform[:1,:]\n",
    "\n",
    "        \n",
    "    # Get the Class ID\n",
    "        class_id = self.df.loc[idx, 'label_ID']\n",
    "        class_id_1 = self.df.loc[idx, 'path']\n",
    "        \n",
    "        \n",
    "        if waveform.shape[1] >= 78530:\n",
    "            start_point=random.randint(0,waveform.shape[1]-79531)\n",
    "            mfcc_temp= audio_mfcc_2(waveform[0:1,start_point:start_point+270000])\n",
    "    # substitute those with no sound with one valid .wav file from the dataset  \n",
    "        else: \n",
    "            audio_file = '16Khz_6709_53113_1570147200.wav'\n",
    "            class_id_1='16Khz_6709_53113_1570147200.wav'\n",
    "            waveform,_ = torchaudio.load(audio_file)\n",
    "            waveform=waveform[:1,:]\n",
    "            start_point=random.randint(0,waveform.shape[1]-79531)\n",
    "            \n",
    "            class_id = 2\n",
    "            mfcc_temp= audio_mfcc_2(waveform[0:1,start_point:start_point+270000])\n",
    "        \n",
    "           \n",
    "        if mfcc_temp.shape[2]<528:\n",
    "#             print('yes')\n",
    "#             print(mfcc_temp.shape)\n",
    "            padding_f=random.randint(0,528-mfcc_temp.shape[2])\n",
    "#             print(padding_f)\n",
    "            \n",
    "            padding_r=528-mfcc_temp.shape[2]-padding_f\n",
    "#             print(padding_r)\n",
    "            \n",
    "            \n",
    "            front=torch.zeros((1,20,padding_f))\n",
    "            end=torch.zeros((1,20,padding_r))\n",
    "        \n",
    "            mfcc_final=torch.cat((front,mfcc_temp,end),2)\n",
    "#             print(mfcc_final)\n",
    "        else:\n",
    "            mfcc_final=mfcc_temp\n",
    "        \n",
    "        return mfcc_final,class_id, class_id_1\n",
    "\n",
    "        \n",
    "        "
   ]
  },
  {
   "cell_type": "code",
   "execution_count": 1094,
   "id": "1d957e65",
   "metadata": {},
   "outputs": [],
   "source": [
    "# transformed data_set were used to read mfcc transformed dataset stored locally\n",
    "class transformed_data(Dataset):\n",
    "    def __init__(self, path):\n",
    "        self.path = path  #img path\n",
    "    \n",
    "    def __getitem__(self, idx):        \n",
    "        sample_ls= os.listdir(self.path)        \n",
    "        sample_path=os.path.join(self.path,sample_ls[idx])\n",
    "        audio_tensor = torch.load(sample_path) \n",
    "        return audio_tensor[0], audio_tensor[1],  audio_tensor[2], \n",
    "\n",
    "    def __len__(self):\n",
    "        return len(os.listdir(self.path))\n",
    "    "
   ]
  },
  {
   "cell_type": "code",
   "execution_count": 1223,
   "id": "d3f28b72",
   "metadata": {},
   "outputs": [
    {
     "ename": "KeyError",
     "evalue": "4220",
     "output_type": "error",
     "traceback": [
      "\u001b[0;31m---------------------------------------------------------------------------\u001b[0m",
      "\u001b[0;31mValueError\u001b[0m                                Traceback (most recent call last)",
      "\u001b[0;32m~/opt/anaconda3/lib/python3.8/site-packages/pandas/core/indexes/range.py\u001b[0m in \u001b[0;36mget_loc\u001b[0;34m(self, key, method, tolerance)\u001b[0m\n\u001b[1;32m    350\u001b[0m \u001b[0;34m\u001b[0m\u001b[0m\n\u001b[0;32m--> 351\u001b[0;31m     \u001b[0;34m@\u001b[0m\u001b[0mproperty\u001b[0m\u001b[0;34m\u001b[0m\u001b[0;34m\u001b[0m\u001b[0m\n\u001b[0m\u001b[1;32m    352\u001b[0m     \u001b[0;32mdef\u001b[0m \u001b[0mis_unique\u001b[0m\u001b[0;34m(\u001b[0m\u001b[0mself\u001b[0m\u001b[0;34m)\u001b[0m \u001b[0;34m->\u001b[0m \u001b[0mbool\u001b[0m\u001b[0;34m:\u001b[0m\u001b[0;34m\u001b[0m\u001b[0;34m\u001b[0m\u001b[0m\n",
      "\u001b[0;31mValueError\u001b[0m: 4220 is not in range",
      "\nThe above exception was the direct cause of the following exception:\n",
      "\u001b[0;31mKeyError\u001b[0m                                  Traceback (most recent call last)",
      "\u001b[0;32m<ipython-input-1223-0290e992e3c3>\u001b[0m in \u001b[0;36m<module>\u001b[0;34m\u001b[0m\n\u001b[1;32m      6\u001b[0m \u001b[0mos\u001b[0m\u001b[0;34m.\u001b[0m\u001b[0mmakedirs\u001b[0m\u001b[0;34m(\u001b[0m\u001b[0mpath\u001b[0m\u001b[0;34m,\u001b[0m \u001b[0mexist_ok\u001b[0m \u001b[0;34m=\u001b[0m \u001b[0;32mTrue\u001b[0m\u001b[0;34m)\u001b[0m\u001b[0;34m\u001b[0m\u001b[0;34m\u001b[0m\u001b[0m\n\u001b[1;32m      7\u001b[0m \u001b[0;31m# torch.save(tensor , os.path.join(path,'model.pth'))\u001b[0m\u001b[0;34m\u001b[0m\u001b[0;34m\u001b[0m\u001b[0;34m\u001b[0m\u001b[0m\n\u001b[0;32m----> 8\u001b[0;31m \u001b[0;32mfor\u001b[0m \u001b[0midx\u001b[0m\u001b[0;34m,\u001b[0m \u001b[0mdata\u001b[0m \u001b[0;32min\u001b[0m \u001b[0menumerate\u001b[0m\u001b[0;34m(\u001b[0m\u001b[0mdataset_anger\u001b[0m\u001b[0;34m)\u001b[0m\u001b[0;34m:\u001b[0m\u001b[0;34m\u001b[0m\u001b[0;34m\u001b[0m\u001b[0m\n\u001b[0m\u001b[1;32m      9\u001b[0m     \u001b[0mtorch\u001b[0m\u001b[0;34m.\u001b[0m\u001b[0msave\u001b[0m\u001b[0;34m(\u001b[0m\u001b[0mdata\u001b[0m\u001b[0;34m,\u001b[0m \u001b[0mos\u001b[0m\u001b[0;34m.\u001b[0m\u001b[0mpath\u001b[0m\u001b[0;34m.\u001b[0m\u001b[0mjoin\u001b[0m\u001b[0;34m(\u001b[0m\u001b[0mpath\u001b[0m\u001b[0;34m,\u001b[0m\u001b[0;34mf'sample_{idx}'\u001b[0m\u001b[0;34m)\u001b[0m\u001b[0;34m)\u001b[0m\u001b[0;34m\u001b[0m\u001b[0;34m\u001b[0m\u001b[0m\n",
      "\u001b[0;32m<ipython-input-1093-9bda0a2a68cd>\u001b[0m in \u001b[0;36m__getitem__\u001b[0;34m(self, idx)\u001b[0m\n\u001b[1;32m     25\u001b[0m     \u001b[0;31m# the relative path\u001b[0m\u001b[0;34m\u001b[0m\u001b[0;34m\u001b[0m\u001b[0;34m\u001b[0m\u001b[0m\n\u001b[1;32m     26\u001b[0m \u001b[0;34m\u001b[0m\u001b[0m\n\u001b[0;32m---> 27\u001b[0;31m         \u001b[0maudio_file\u001b[0m \u001b[0;34m=\u001b[0m \u001b[0mself\u001b[0m\u001b[0;34m.\u001b[0m\u001b[0mdata_path\u001b[0m \u001b[0;34m+\u001b[0m \u001b[0mself\u001b[0m\u001b[0;34m.\u001b[0m\u001b[0mprefix\u001b[0m\u001b[0;34m+\u001b[0m \u001b[0mself\u001b[0m\u001b[0;34m.\u001b[0m\u001b[0mdf\u001b[0m\u001b[0;34m.\u001b[0m\u001b[0mloc\u001b[0m\u001b[0;34m[\u001b[0m\u001b[0midx\u001b[0m\u001b[0;34m,\u001b[0m \u001b[0;34m'path'\u001b[0m\u001b[0;34m]\u001b[0m\u001b[0;34m\u001b[0m\u001b[0;34m\u001b[0m\u001b[0m\n\u001b[0m\u001b[1;32m     28\u001b[0m         \u001b[0mwaveform\u001b[0m\u001b[0;34m,\u001b[0m\u001b[0m_\u001b[0m \u001b[0;34m=\u001b[0m \u001b[0mtorchaudio\u001b[0m\u001b[0;34m.\u001b[0m\u001b[0mload\u001b[0m\u001b[0;34m(\u001b[0m\u001b[0maudio_file\u001b[0m\u001b[0;34m)\u001b[0m\u001b[0;34m\u001b[0m\u001b[0;34m\u001b[0m\u001b[0m\n\u001b[1;32m     29\u001b[0m         \u001b[0mwaveform\u001b[0m\u001b[0;34m=\u001b[0m\u001b[0mwaveform\u001b[0m\u001b[0;34m[\u001b[0m\u001b[0;34m:\u001b[0m\u001b[0;36m1\u001b[0m\u001b[0;34m,\u001b[0m\u001b[0;34m:\u001b[0m\u001b[0;34m]\u001b[0m\u001b[0;34m\u001b[0m\u001b[0;34m\u001b[0m\u001b[0m\n",
      "\u001b[0;32m~/opt/anaconda3/lib/python3.8/site-packages/pandas/core/indexing.py\u001b[0m in \u001b[0;36m__getitem__\u001b[0;34m(self, key)\u001b[0m\n\u001b[1;32m    871\u001b[0m                 \u001b[0;31m#  is_scalar_access, which that would be.\u001b[0m\u001b[0;34m\u001b[0m\u001b[0;34m\u001b[0m\u001b[0;34m\u001b[0m\u001b[0m\n\u001b[1;32m    872\u001b[0m                 \u001b[0;32mif\u001b[0m \u001b[0msection\u001b[0m\u001b[0;34m.\u001b[0m\u001b[0mndim\u001b[0m \u001b[0;34m==\u001b[0m \u001b[0mself\u001b[0m\u001b[0;34m.\u001b[0m\u001b[0mndim\u001b[0m\u001b[0;34m:\u001b[0m\u001b[0;34m\u001b[0m\u001b[0;34m\u001b[0m\u001b[0m\n\u001b[0;32m--> 873\u001b[0;31m                     \u001b[0;31m# we're in the middle of slicing through a MultiIndex\u001b[0m\u001b[0;34m\u001b[0m\u001b[0;34m\u001b[0m\u001b[0;34m\u001b[0m\u001b[0m\n\u001b[0m\u001b[1;32m    874\u001b[0m                     \u001b[0;31m# revise the key wrt to `section` by inserting an _NS\u001b[0m\u001b[0;34m\u001b[0m\u001b[0;34m\u001b[0m\u001b[0;34m\u001b[0m\u001b[0m\n\u001b[1;32m    875\u001b[0m                     \u001b[0mnew_key\u001b[0m \u001b[0;34m=\u001b[0m \u001b[0mtup\u001b[0m\u001b[0;34m[\u001b[0m\u001b[0;34m:\u001b[0m\u001b[0mi\u001b[0m\u001b[0;34m]\u001b[0m \u001b[0;34m+\u001b[0m \u001b[0;34m(\u001b[0m\u001b[0m_NS\u001b[0m\u001b[0;34m,\u001b[0m\u001b[0;34m)\u001b[0m \u001b[0;34m+\u001b[0m \u001b[0mtup\u001b[0m\u001b[0;34m[\u001b[0m\u001b[0mi\u001b[0m \u001b[0;34m+\u001b[0m \u001b[0;36m1\u001b[0m \u001b[0;34m:\u001b[0m\u001b[0;34m]\u001b[0m\u001b[0;34m\u001b[0m\u001b[0;34m\u001b[0m\u001b[0m\n",
      "\u001b[0;32m~/opt/anaconda3/lib/python3.8/site-packages/pandas/core/indexing.py\u001b[0m in \u001b[0;36m_getitem_tuple\u001b[0;34m(self, tup)\u001b[0m\n\u001b[1;32m   1042\u001b[0m                 \u001b[0;32mreturn\u001b[0m \u001b[0;32mFalse\u001b[0m\u001b[0;34m\u001b[0m\u001b[0;34m\u001b[0m\u001b[0m\n\u001b[1;32m   1043\u001b[0m \u001b[0;34m\u001b[0m\u001b[0m\n\u001b[0;32m-> 1044\u001b[0;31m             \u001b[0;32mif\u001b[0m \u001b[0misinstance\u001b[0m\u001b[0;34m(\u001b[0m\u001b[0mk\u001b[0m\u001b[0;34m,\u001b[0m \u001b[0mstr\u001b[0m\u001b[0;34m)\u001b[0m \u001b[0;32mand\u001b[0m \u001b[0max\u001b[0m\u001b[0;34m.\u001b[0m\u001b[0m_supports_partial_string_indexing\u001b[0m\u001b[0;34m:\u001b[0m\u001b[0;34m\u001b[0m\u001b[0;34m\u001b[0m\u001b[0m\n\u001b[0m\u001b[1;32m   1045\u001b[0m                 \u001b[0;31m# partial string indexing, df.loc['2000', 'A']\u001b[0m\u001b[0;34m\u001b[0m\u001b[0;34m\u001b[0m\u001b[0;34m\u001b[0m\u001b[0m\n\u001b[1;32m   1046\u001b[0m                 \u001b[0;31m# should not be considered scalar\u001b[0m\u001b[0;34m\u001b[0m\u001b[0;34m\u001b[0m\u001b[0;34m\u001b[0m\u001b[0m\n",
      "\u001b[0;32m~/opt/anaconda3/lib/python3.8/site-packages/pandas/core/indexing.py\u001b[0m in \u001b[0;36m_getitem_lowerdim\u001b[0;34m(self, tup)\u001b[0m\n\u001b[1;32m    784\u001b[0m             \u001b[0;32mreturn\u001b[0m \u001b[0many\u001b[0m\u001b[0;34m(\u001b[0m\u001b[0mis_nested_tuple\u001b[0m\u001b[0;34m(\u001b[0m\u001b[0mtup\u001b[0m\u001b[0;34m,\u001b[0m \u001b[0max\u001b[0m\u001b[0;34m)\u001b[0m \u001b[0;32mfor\u001b[0m \u001b[0max\u001b[0m \u001b[0;32min\u001b[0m \u001b[0mself\u001b[0m\u001b[0;34m.\u001b[0m\u001b[0mobj\u001b[0m\u001b[0;34m.\u001b[0m\u001b[0maxes\u001b[0m\u001b[0;34m)\u001b[0m\u001b[0;34m\u001b[0m\u001b[0;34m\u001b[0m\u001b[0m\n\u001b[1;32m    785\u001b[0m         \u001b[0;32mreturn\u001b[0m \u001b[0;32mFalse\u001b[0m\u001b[0;34m\u001b[0m\u001b[0;34m\u001b[0m\u001b[0m\n\u001b[0;32m--> 786\u001b[0;31m \u001b[0;34m\u001b[0m\u001b[0m\n\u001b[0m\u001b[1;32m    787\u001b[0m     \u001b[0;32mdef\u001b[0m \u001b[0m_convert_tuple\u001b[0m\u001b[0;34m(\u001b[0m\u001b[0mself\u001b[0m\u001b[0;34m,\u001b[0m \u001b[0mkey\u001b[0m\u001b[0;34m)\u001b[0m\u001b[0;34m:\u001b[0m\u001b[0;34m\u001b[0m\u001b[0;34m\u001b[0m\u001b[0m\n\u001b[1;32m    788\u001b[0m         \u001b[0mkeyidx\u001b[0m \u001b[0;34m=\u001b[0m \u001b[0;34m[\u001b[0m\u001b[0;34m]\u001b[0m\u001b[0;34m\u001b[0m\u001b[0;34m\u001b[0m\u001b[0m\n",
      "\u001b[0;32m~/opt/anaconda3/lib/python3.8/site-packages/pandas/core/indexing.py\u001b[0m in \u001b[0;36m_getitem_axis\u001b[0;34m(self, key, axis)\u001b[0m\n\u001b[1;32m   1108\u001b[0m         \u001b[0mIndex\u001b[0m \u001b[0mcurrent\u001b[0m \u001b[0mobject\u001b[0m \u001b[0;32mwith\u001b[0m \u001b[0man\u001b[0m \u001b[0miterable\u001b[0m \u001b[0mcollection\u001b[0m \u001b[0mof\u001b[0m \u001b[0mkeys\u001b[0m\u001b[0;34m.\u001b[0m\u001b[0;34m\u001b[0m\u001b[0;34m\u001b[0m\u001b[0m\n\u001b[1;32m   1109\u001b[0m \u001b[0;34m\u001b[0m\u001b[0m\n\u001b[0;32m-> 1110\u001b[0;31m         \u001b[0mParameters\u001b[0m\u001b[0;34m\u001b[0m\u001b[0;34m\u001b[0m\u001b[0m\n\u001b[0m\u001b[1;32m   1111\u001b[0m         \u001b[0;34m-\u001b[0m\u001b[0;34m-\u001b[0m\u001b[0;34m-\u001b[0m\u001b[0;34m-\u001b[0m\u001b[0;34m-\u001b[0m\u001b[0;34m-\u001b[0m\u001b[0;34m-\u001b[0m\u001b[0;34m-\u001b[0m\u001b[0;34m-\u001b[0m\u001b[0;34m-\u001b[0m\u001b[0;34m\u001b[0m\u001b[0;34m\u001b[0m\u001b[0m\n\u001b[1;32m   1112\u001b[0m         \u001b[0mkey\u001b[0m \u001b[0;34m:\u001b[0m \u001b[0miterable\u001b[0m\u001b[0;34m\u001b[0m\u001b[0;34m\u001b[0m\u001b[0m\n",
      "\u001b[0;32m~/opt/anaconda3/lib/python3.8/site-packages/pandas/core/indexing.py\u001b[0m in \u001b[0;36m_get_label\u001b[0;34m(self, label, axis)\u001b[0m\n\u001b[1;32m   1057\u001b[0m     \u001b[0;32mdef\u001b[0m \u001b[0m_multi_take_opportunity\u001b[0m\u001b[0;34m(\u001b[0m\u001b[0mself\u001b[0m\u001b[0;34m,\u001b[0m \u001b[0mtup\u001b[0m\u001b[0;34m:\u001b[0m \u001b[0mtuple\u001b[0m\u001b[0;34m)\u001b[0m \u001b[0;34m->\u001b[0m \u001b[0mbool\u001b[0m\u001b[0;34m:\u001b[0m\u001b[0;34m\u001b[0m\u001b[0;34m\u001b[0m\u001b[0m\n\u001b[1;32m   1058\u001b[0m         \"\"\"\n\u001b[0;32m-> 1059\u001b[0;31m         \u001b[0mCheck\u001b[0m \u001b[0mwhether\u001b[0m \u001b[0mthere\u001b[0m \u001b[0;32mis\u001b[0m \u001b[0mthe\u001b[0m \u001b[0mpossibility\u001b[0m \u001b[0mto\u001b[0m \u001b[0muse\u001b[0m\u001b[0;31m \u001b[0m\u001b[0;31m`\u001b[0m\u001b[0;31m`\u001b[0m\u001b[0m_multi_take\u001b[0m\u001b[0;31m`\u001b[0m\u001b[0;31m`\u001b[0m\u001b[0;34m.\u001b[0m\u001b[0;34m\u001b[0m\u001b[0;34m\u001b[0m\u001b[0m\n\u001b[0m\u001b[1;32m   1060\u001b[0m \u001b[0;34m\u001b[0m\u001b[0m\n\u001b[1;32m   1061\u001b[0m         \u001b[0mCurrently\u001b[0m \u001b[0mthe\u001b[0m \u001b[0mlimit\u001b[0m \u001b[0;32mis\u001b[0m \u001b[0mthat\u001b[0m \u001b[0mall\u001b[0m \u001b[0maxes\u001b[0m \u001b[0mbeing\u001b[0m \u001b[0mindexed\u001b[0m\u001b[0;34m,\u001b[0m \u001b[0mmust\u001b[0m \u001b[0mbe\u001b[0m \u001b[0mindexed\u001b[0m \u001b[0;32mwith\u001b[0m\u001b[0;34m\u001b[0m\u001b[0;34m\u001b[0m\u001b[0m\n",
      "\u001b[0;32m~/opt/anaconda3/lib/python3.8/site-packages/pandas/core/generic.py\u001b[0m in \u001b[0;36mxs\u001b[0;34m(self, key, axis, level, drop_level)\u001b[0m\n\u001b[1;32m   3480\u001b[0m             \u001b[0mRows\u001b[0m \u001b[0mto\u001b[0m \u001b[0mwrite\u001b[0m \u001b[0mat\u001b[0m \u001b[0ma\u001b[0m \u001b[0mtime\u001b[0m\u001b[0;34m.\u001b[0m\u001b[0;34m\u001b[0m\u001b[0;34m\u001b[0m\u001b[0m\n\u001b[1;32m   3481\u001b[0m         \u001b[0mdate_format\u001b[0m \u001b[0;34m:\u001b[0m \u001b[0mstr\u001b[0m\u001b[0;34m,\u001b[0m \u001b[0mdefault\u001b[0m \u001b[0;32mNone\u001b[0m\u001b[0;34m\u001b[0m\u001b[0;34m\u001b[0m\u001b[0m\n\u001b[0;32m-> 3482\u001b[0;31m             \u001b[0mFormat\u001b[0m \u001b[0mstring\u001b[0m \u001b[0;32mfor\u001b[0m \u001b[0mdatetime\u001b[0m \u001b[0mobjects\u001b[0m\u001b[0;34m.\u001b[0m\u001b[0;34m\u001b[0m\u001b[0;34m\u001b[0m\u001b[0m\n\u001b[0m\u001b[1;32m   3483\u001b[0m         \u001b[0mdoublequote\u001b[0m \u001b[0;34m:\u001b[0m \u001b[0mbool\u001b[0m\u001b[0;34m,\u001b[0m \u001b[0mdefault\u001b[0m \u001b[0;32mTrue\u001b[0m\u001b[0;34m\u001b[0m\u001b[0;34m\u001b[0m\u001b[0m\n\u001b[1;32m   3484\u001b[0m             \u001b[0mControl\u001b[0m \u001b[0mquoting\u001b[0m \u001b[0mof\u001b[0m\u001b[0;31m \u001b[0m\u001b[0;31m`\u001b[0m\u001b[0mquotechar\u001b[0m\u001b[0;31m`\u001b[0m \u001b[0minside\u001b[0m \u001b[0ma\u001b[0m \u001b[0mfield\u001b[0m\u001b[0;34m.\u001b[0m\u001b[0;34m\u001b[0m\u001b[0;34m\u001b[0m\u001b[0m\n",
      "\u001b[0;32m~/opt/anaconda3/lib/python3.8/site-packages/pandas/core/indexes/range.py\u001b[0m in \u001b[0;36mget_loc\u001b[0;34m(self, key, method, tolerance)\u001b[0m\n\u001b[1;32m    351\u001b[0m     \u001b[0;34m@\u001b[0m\u001b[0mproperty\u001b[0m\u001b[0;34m\u001b[0m\u001b[0;34m\u001b[0m\u001b[0m\n\u001b[1;32m    352\u001b[0m     \u001b[0;32mdef\u001b[0m \u001b[0mis_unique\u001b[0m\u001b[0;34m(\u001b[0m\u001b[0mself\u001b[0m\u001b[0;34m)\u001b[0m \u001b[0;34m->\u001b[0m \u001b[0mbool\u001b[0m\u001b[0;34m:\u001b[0m\u001b[0;34m\u001b[0m\u001b[0;34m\u001b[0m\u001b[0m\n\u001b[0;32m--> 353\u001b[0;31m         \u001b[0;34m\"\"\"return if the index has unique values\"\"\"\u001b[0m\u001b[0;34m\u001b[0m\u001b[0;34m\u001b[0m\u001b[0m\n\u001b[0m\u001b[1;32m    354\u001b[0m         \u001b[0;32mreturn\u001b[0m \u001b[0;32mTrue\u001b[0m\u001b[0;34m\u001b[0m\u001b[0;34m\u001b[0m\u001b[0m\n\u001b[1;32m    355\u001b[0m \u001b[0;34m\u001b[0m\u001b[0m\n",
      "\u001b[0;31mKeyError\u001b[0m: 4220"
     ]
    }
   ],
   "source": [
    "# dataset generation and save, it worked despite the error message\n",
    "dataset_anger=TQI_DS_2(mean_anger_5.reset_index())\n",
    "#save the transformed data before CNN training\n",
    "path = '/Users/ywrz/Downloads/voice_labeling_report_21_May_22/processed/sample_list_anger' \n",
    "#path put all the tensor and lable under/sample_test\n",
    "os.makedirs(path, exist_ok = True) \n",
    "# torch.save(tensor , os.path.join(path,'model.pth'))\n",
    "for idx, data in enumerate(dataset_anger):\n",
    "    torch.save(data, os.path.join(path,f'sample_{idx}'))\n"
   ]
  },
  {
   "cell_type": "code",
   "execution_count": 1224,
   "id": "61fc9489",
   "metadata": {},
   "outputs": [],
   "source": [
    "# reading dataset previously saved \n",
    "dataset_anger_2=\\\n",
    "transformed_data('/Users/ywrz/Downloads/voice_labeling_report_21_May_22/processed/sample_list_anger/')"
   ]
  },
  {
   "cell_type": "code",
   "execution_count": 1225,
   "id": "e4a2db85",
   "metadata": {},
   "outputs": [],
   "source": [
    "num_train = len(dataset_anger_2)\n",
    "train_ds, val_ds = random_split(dataset_anger_2, [num_train,0])\n",
    "train_dl = torch.utils.data.DataLoader(train_ds,batch_size=32, shuffle=True)"
   ]
  },
  {
   "cell_type": "markdown",
   "id": "6bbd0d47",
   "metadata": {},
   "source": [
    "<span style=\"color:red;font-weight:1800;font-size:30px\">\n",
    "CNN model\n",
    "</span><br/><br/>\n",
    "<span style=\"color:red;font-weight:1800;font-size:20px\">\n",
    "Training\n",
    "</span>\n"
   ]
  },
  {
   "cell_type": "code",
   "execution_count": 1226,
   "id": "97e75cf1",
   "metadata": {},
   "outputs": [],
   "source": [
    "#CNN model\n",
    "class Classifier (nn.Module):\n",
    "    # ----------------------------\n",
    "    # Build the model architecture\n",
    "    # ----------------------------\n",
    "    def __init__(self):\n",
    "        super().__init__()\n",
    "        conv_layers = []\n",
    "        # First Convolution Block with Relu and Batch Norm.\n",
    "        self.conv1 = nn.Conv2d(1, 8, kernel_size=(3,3), stride=(2, 2), padding=(2, 10))\n",
    "        self.relu1 = nn.ReLU()\n",
    "        self.bn1 = nn.BatchNorm2d(8)\n",
    "        \n",
    "        conv_layers += [self.conv1, self.relu1, self.bn1]\n",
    "\n",
    "\n",
    "        # Second Convolution Block\n",
    "        self.conv2 = nn.Conv2d(8, 16, kernel_size=(3,3), stride=(2, 2), padding=(2, 2))\n",
    "        self.relu2 = nn.ReLU()\n",
    "        self.bn2 = nn.BatchNorm2d(16)\n",
    "        conv_layers += [self.conv2, self.relu2, self.bn2]\n",
    "\n",
    "        self.conv3 = nn.Conv2d(16, 32, kernel_size=(3, 3), stride=(2, 2), padding=(2, 2))\n",
    "        self.relu3 = nn.ReLU()\n",
    "        self.bn3 = nn.BatchNorm2d(32)\n",
    "        conv_layers += [self.conv3, self.relu3, self.bn3]\n",
    "       \n",
    "        self.conv = nn.Sequential(*conv_layers)\n",
    "        self.ap=nn.AvgPool2d((2,5))\n",
    "        self.lin=nn.Linear(896,4)\n",
    "    \n",
    "    def forward(self,x):\n",
    "            \n",
    "        x=self.conv(x) \n",
    "#         print(x.shape)\n",
    "        x=self.ap(x)\n",
    "#         print(x.shape)\n",
    "        x = x.view(x.shape[0], -1)\n",
    "#         print(x.shape)\n",
    "        x=self.lin(x)\n",
    "        return x\n",
    "            \n",
    "     "
   ]
  },
  {
   "cell_type": "code",
   "execution_count": 1227,
   "id": "53b76381",
   "metadata": {},
   "outputs": [],
   "source": [
    "#training\n",
    "loss_history_anger=[]\n",
    "accuracy_history_anger=[]\n",
    "def training(model, train_dl,num_epochs):\n",
    "  # Loss Function, Optimizer and Scheduler\n",
    "    criterion = nn.CrossEntropyLoss()\n",
    "    optimizer = torch.optim.Adam(model.parameters(),lr=0.01)\n",
    "#   scheduler = torch.optim.lr_scheduler.OneCycleLR(optimizer, max_lr=0.001,\n",
    "#                                                 steps_per_epoch=int(len(train_dl)),\n",
    "#                                                 epochs=num_epochs,\n",
    "#                                                 anneal_strategy='linear')\n",
    "\n",
    "  # Repeat for each epoch\n",
    "    for epoch in tqdm_notebook(range(num_epochs)):\n",
    "        running_loss = 0.0\n",
    "        correct_prediction = 0\n",
    "        total_prediction = 0\n",
    "\n",
    "    # Repeat for each batch in the training set\n",
    "        for i, data in enumerate(train_dl):\n",
    "        # Get the input features and target labels, and put them on the GPU\n",
    "            inputs, labels = data[0], data[1]\n",
    "\n",
    "        # Normalize the inputs\n",
    "#             inputs_m, inputs_s = inputs.mean(), inputs.std()\n",
    "#             inputs = (inputs - inputs_m) / inputs_s\n",
    "\n",
    "        # Zero the parameter gradients\n",
    "            optimizer.zero_grad()\n",
    "\n",
    "        # forward + backward + optimize\n",
    "            outputs = model(inputs)\n",
    "            loss = criterion(outputs, labels)\n",
    "            loss.backward()\n",
    "            optimizer.step()\n",
    "            \n",
    "        # Keep stats for Loss and Accuracy\n",
    "            running_loss += loss.item()\n",
    "\n",
    "        # Get the predicted class with the highest score\n",
    "            _, prediction = torch.max(outputs,1)\n",
    "            # Count of predictions that matched the target label\n",
    "            correct_prediction += (prediction == labels).sum().item()\n",
    "            total_prediction += prediction.shape[0]\n",
    "        \n",
    "        num_batches = len(train_dl)\n",
    "        avg_loss = running_loss / num_batches\n",
    "        acc = correct_prediction/total_prediction\n",
    "        print(f'Epoch: {epoch}, Loss: {avg_loss:.2f}, Accuracy: {acc:.2f}')\n",
    "        loss_history_anger.append(avg_loss)\n",
    "        accuracy_history_anger.append(acc)\n",
    "\n"
   ]
  },
  {
   "cell_type": "code",
   "execution_count": 1233,
   "id": "efa02b30",
   "metadata": {},
   "outputs": [
    {
     "data": {
      "application/vnd.jupyter.widget-view+json": {
       "model_id": "a51b9aa257b54ddf9e4708987862651d",
       "version_major": 2,
       "version_minor": 0
      },
      "text/plain": [
       "  0%|          | 0/20 [00:00<?, ?it/s]"
      ]
     },
     "metadata": {},
     "output_type": "display_data"
    },
    {
     "name": "stderr",
     "output_type": "stream",
     "text": [
      "Exception ignored in: <function tqdm.__del__ at 0x7fb8bb9d7790>\n",
      "Traceback (most recent call last):\n",
      "  File \"/Users/ywrz/opt/anaconda3/lib/python3.8/site-packages/tqdm/std.py\", line 1161, in __del__\n",
      "    def __del__(self):\n",
      "KeyboardInterrupt: \n"
     ]
    },
    {
     "name": "stdout",
     "output_type": "stream",
     "text": [
      "Epoch: 0, Loss: 0.29, Accuracy: 0.89\n",
      "Epoch: 1, Loss: 0.27, Accuracy: 0.89\n",
      "Epoch: 2, Loss: 0.19, Accuracy: 0.93\n",
      "Epoch: 3, Loss: 0.21, Accuracy: 0.92\n",
      "Epoch: 4, Loss: 0.20, Accuracy: 0.92\n",
      "Epoch: 5, Loss: 0.19, Accuracy: 0.92\n",
      "Epoch: 6, Loss: 0.15, Accuracy: 0.95\n",
      "Epoch: 7, Loss: 0.17, Accuracy: 0.93\n",
      "Epoch: 8, Loss: 0.18, Accuracy: 0.93\n",
      "Epoch: 9, Loss: 0.13, Accuracy: 0.95\n",
      "Epoch: 10, Loss: 0.12, Accuracy: 0.95\n",
      "Epoch: 11, Loss: 0.15, Accuracy: 0.94\n",
      "Epoch: 12, Loss: 0.15, Accuracy: 0.94\n",
      "Epoch: 13, Loss: 0.17, Accuracy: 0.94\n",
      "Epoch: 14, Loss: 0.15, Accuracy: 0.94\n",
      "Epoch: 15, Loss: 0.11, Accuracy: 0.96\n",
      "Epoch: 16, Loss: 0.09, Accuracy: 0.97\n",
      "Epoch: 17, Loss: 0.10, Accuracy: 0.96\n",
      "Epoch: 18, Loss: 0.11, Accuracy: 0.96\n",
      "Epoch: 19, Loss: 0.09, Accuracy: 0.97\n"
     ]
    }
   ],
   "source": [
    "#model_training, the same code had been used repetitively for 'fear','anger',''\n",
    "model_anger=Classifier()\n",
    "training(model_anger, train_dl, 40)"
   ]
  },
  {
   "cell_type": "markdown",
   "id": "db8d412b",
   "metadata": {},
   "source": [
    "\n",
    "<span style=\"color:red;font-weight:1800;font-size:20px\">\n",
    "Loss Curve for all three datasets in training\n",
    "</span>\n"
   ]
  },
  {
   "cell_type": "code",
   "execution_count": 1241,
   "id": "80638bc3",
   "metadata": {},
   "outputs": [
    {
     "data": {
      "text/plain": [
       "<matplotlib.legend.Legend at 0x7fb29fcef0d0>"
      ]
     },
     "execution_count": 1241,
     "metadata": {},
     "output_type": "execute_result"
    },
    {
     "data": {
      "image/png": "[encoded data removed]",
      "text/plain": [
       "<Figure size 1920x720 with 2 Axes>"
      ]
     },
     "metadata": {
      "needs_background": "light"
     },
     "output_type": "display_data"
    }
   ],
   "source": [
    "# curve\n",
    "plt.figure(dpi=120,figsize=(16,6))\n",
    "plt.subplot(1, 2, 1) # row 1, col 2 index 1\n",
    "\n",
    "plt.plot(loss_history[:40], 'b--^', label='train_loss')\n",
    "\n",
    "plt.xlabel(\"Epoch\",size=15)\n",
    "plt.ylabel(\"Avg_loss\",size=15)\n",
    "plt.title(\"cnn_model_sadness\")\n",
    "plt.legend(loc='best')\n",
    "plt.subplot(1, 2, 2) # row 1, col 2 index 1\n",
    "plt.plot(accuracy_history[:40], 'r--^', label='Accuracy')\n",
    "\n",
    "plt.xlabel(\"Epoch\",size=15)\n",
    "plt.ylabel(\"Accuracy\",size=15)\n",
    "plt.title(\"cnn_model_sadness\")\n",
    "plt.legend(loc='best')\n",
    "\n",
    "\n",
    "# code for figure 2\n",
    "\n"
   ]
  },
  {
   "cell_type": "code",
   "execution_count": 1211,
   "id": "8613ff7c",
   "metadata": {},
   "outputs": [
    {
     "data": {
      "text/plain": [
       "<matplotlib.legend.Legend at 0x7fb28d13a5b0>"
      ]
     },
     "execution_count": 1211,
     "metadata": {},
     "output_type": "execute_result"
    },
    {
     "data": {
      "image/png": "[encoded data removed]",
      "text/plain": [
       "<Figure size 1920x720 with 2 Axes>"
      ]
     },
     "metadata": {
      "needs_background": "light"
     },
     "output_type": "display_data"
    }
   ],
   "source": [
    "plt.figure(dpi=120,figsize=(16,6))\n",
    "plt.subplot(1, 2, 1) # row 1, col 2 index 1\n",
    "\n",
    "plt.plot(loss_history_fear, 'b--^', label='train_loss')\n",
    "\n",
    "plt.xlabel(\"Epoch\",size=15)\n",
    "plt.ylabel(\"Avg_loss\",size=15)\n",
    "plt.title(\"cnn_model_fear\")\n",
    "plt.legend(loc='best')\n",
    "\n",
    "plt.subplot(1, 2, 2) # row 1, col 2 index 1\n",
    "plt.plot(accuracy_history_fear, 'r--^', label='Accuracy')\n",
    "\n",
    "plt.xlabel(\"Epoch\",size=15)\n",
    "plt.ylabel(\"Accuracy\",size=15)\n",
    "plt.title(\"cnn_model_fear\")\n",
    "plt.legend(loc='best')\n"
   ]
  },
  {
   "cell_type": "code",
   "execution_count": 1234,
   "id": "e5377941",
   "metadata": {},
   "outputs": [
    {
     "data": {
      "text/plain": [
       "<matplotlib.legend.Legend at 0x7fb29224c1c0>"
      ]
     },
     "execution_count": 1234,
     "metadata": {},
     "output_type": "execute_result"
    },
    {
     "data": {
      "image/png": "[encoded data removed]",
      "text/plain": [
       "<Figure size 1920x720 with 2 Axes>"
      ]
     },
     "metadata": {
      "needs_background": "light"
     },
     "output_type": "display_data"
    }
   ],
   "source": [
    "plt.figure(dpi=120,figsize=(16,6))\n",
    "plt.subplot(1, 2, 1) # row 1, col 2 index 1\n",
    "\n",
    "plt.plot(loss_history_anger, 'b--^', label='train_loss')\n",
    "\n",
    "plt.xlabel(\"Epoch\",size=15)\n",
    "plt.ylabel(\"Avg_loss\",size=15)\n",
    "plt.title(\"cnn_model_anger\")\n",
    "plt.legend(loc='best')\n",
    "\n",
    "plt.subplot(1, 2, 2) # row 1, col 2 index 1\n",
    "plt.plot(accuracy_history_anger, 'r--^', label='Accuracy')\n",
    "\n",
    "plt.xlabel(\"Epoch\",size=15)\n",
    "plt.ylabel(\"Accuracy\",size=15)\n",
    "plt.title(\"cnn_model_anger\")\n",
    "plt.legend(loc='best')\n"
   ]
  },
  {
   "cell_type": "markdown",
   "id": "56a1e9f2",
   "metadata": {},
   "source": [
    "<span style=\"color:red;font-weight:1800;font-size:20px\">\n",
    "Modle Validation\n",
    "</span><br/><br/>\n",
    "<span style=\"color:red;font-weight:1800;font-size:20px\">\n",
    "Building dataset for testing\n",
    "</span><br/>\n",
    "\n"
   ]
  },
  {
   "cell_type": "code",
   "execution_count": 1181,
   "id": "eea3b738",
   "metadata": {},
   "outputs": [
    {
     "ename": "KeyError",
     "evalue": "1055",
     "output_type": "error",
     "traceback": [
      "\u001b[0;31m---------------------------------------------------------------------------\u001b[0m",
      "\u001b[0;31mValueError\u001b[0m                                Traceback (most recent call last)",
      "\u001b[0;32m~/opt/anaconda3/lib/python3.8/site-packages/pandas/core/indexes/range.py\u001b[0m in \u001b[0;36mget_loc\u001b[0;34m(self, key, method, tolerance)\u001b[0m\n\u001b[1;32m    350\u001b[0m \u001b[0;34m\u001b[0m\u001b[0m\n\u001b[0;32m--> 351\u001b[0;31m     \u001b[0;34m@\u001b[0m\u001b[0mproperty\u001b[0m\u001b[0;34m\u001b[0m\u001b[0;34m\u001b[0m\u001b[0m\n\u001b[0m\u001b[1;32m    352\u001b[0m     \u001b[0;32mdef\u001b[0m \u001b[0mis_unique\u001b[0m\u001b[0;34m(\u001b[0m\u001b[0mself\u001b[0m\u001b[0;34m)\u001b[0m \u001b[0;34m->\u001b[0m \u001b[0mbool\u001b[0m\u001b[0;34m:\u001b[0m\u001b[0;34m\u001b[0m\u001b[0;34m\u001b[0m\u001b[0m\n",
      "\u001b[0;31mValueError\u001b[0m: 1055 is not in range",
      "\nThe above exception was the direct cause of the following exception:\n",
      "\u001b[0;31mKeyError\u001b[0m                                  Traceback (most recent call last)",
      "\u001b[0;32m<ipython-input-1181-96808299011f>\u001b[0m in \u001b[0;36m<module>\u001b[0;34m\u001b[0m\n\u001b[1;32m      6\u001b[0m \u001b[0;31m# torch.save(tensor , os.path.join(path,'model.pth'))\u001b[0m\u001b[0;34m\u001b[0m\u001b[0;34m\u001b[0m\u001b[0;34m\u001b[0m\u001b[0m\n\u001b[1;32m      7\u001b[0m \u001b[0;34m\u001b[0m\u001b[0m\n\u001b[0;32m----> 8\u001b[0;31m \u001b[0;32mfor\u001b[0m \u001b[0midx\u001b[0m\u001b[0;34m,\u001b[0m \u001b[0mdata\u001b[0m \u001b[0;32min\u001b[0m \u001b[0menumerate\u001b[0m\u001b[0;34m(\u001b[0m\u001b[0mdataset_test\u001b[0m\u001b[0;34m)\u001b[0m\u001b[0;34m:\u001b[0m\u001b[0;34m\u001b[0m\u001b[0;34m\u001b[0m\u001b[0m\n\u001b[0m\u001b[1;32m      9\u001b[0m \u001b[0;34m\u001b[0m\u001b[0m\n\u001b[1;32m     10\u001b[0m     \u001b[0mtorch\u001b[0m\u001b[0;34m.\u001b[0m\u001b[0msave\u001b[0m\u001b[0;34m(\u001b[0m\u001b[0mdata\u001b[0m\u001b[0;34m,\u001b[0m \u001b[0mos\u001b[0m\u001b[0;34m.\u001b[0m\u001b[0mpath\u001b[0m\u001b[0;34m.\u001b[0m\u001b[0mjoin\u001b[0m\u001b[0;34m(\u001b[0m\u001b[0mpath\u001b[0m\u001b[0;34m,\u001b[0m\u001b[0;34mf'sample_{idx}'\u001b[0m\u001b[0;34m)\u001b[0m\u001b[0;34m)\u001b[0m\u001b[0;34m\u001b[0m\u001b[0;34m\u001b[0m\u001b[0m\n",
      "\u001b[0;32m<ipython-input-1093-9bda0a2a68cd>\u001b[0m in \u001b[0;36m__getitem__\u001b[0;34m(self, idx)\u001b[0m\n\u001b[1;32m     25\u001b[0m     \u001b[0;31m# the relative path\u001b[0m\u001b[0;34m\u001b[0m\u001b[0;34m\u001b[0m\u001b[0;34m\u001b[0m\u001b[0m\n\u001b[1;32m     26\u001b[0m \u001b[0;34m\u001b[0m\u001b[0m\n\u001b[0;32m---> 27\u001b[0;31m         \u001b[0maudio_file\u001b[0m \u001b[0;34m=\u001b[0m \u001b[0mself\u001b[0m\u001b[0;34m.\u001b[0m\u001b[0mdata_path\u001b[0m \u001b[0;34m+\u001b[0m \u001b[0mself\u001b[0m\u001b[0;34m.\u001b[0m\u001b[0mprefix\u001b[0m\u001b[0;34m+\u001b[0m \u001b[0mself\u001b[0m\u001b[0;34m.\u001b[0m\u001b[0mdf\u001b[0m\u001b[0;34m.\u001b[0m\u001b[0mloc\u001b[0m\u001b[0;34m[\u001b[0m\u001b[0midx\u001b[0m\u001b[0;34m,\u001b[0m \u001b[0;34m'path'\u001b[0m\u001b[0;34m]\u001b[0m\u001b[0;34m\u001b[0m\u001b[0;34m\u001b[0m\u001b[0m\n\u001b[0m\u001b[1;32m     28\u001b[0m         \u001b[0mwaveform\u001b[0m\u001b[0;34m,\u001b[0m\u001b[0m_\u001b[0m \u001b[0;34m=\u001b[0m \u001b[0mtorchaudio\u001b[0m\u001b[0;34m.\u001b[0m\u001b[0mload\u001b[0m\u001b[0;34m(\u001b[0m\u001b[0maudio_file\u001b[0m\u001b[0;34m)\u001b[0m\u001b[0;34m\u001b[0m\u001b[0;34m\u001b[0m\u001b[0m\n\u001b[1;32m     29\u001b[0m         \u001b[0mwaveform\u001b[0m\u001b[0;34m=\u001b[0m\u001b[0mwaveform\u001b[0m\u001b[0;34m[\u001b[0m\u001b[0;34m:\u001b[0m\u001b[0;36m1\u001b[0m\u001b[0;34m,\u001b[0m\u001b[0;34m:\u001b[0m\u001b[0;34m]\u001b[0m\u001b[0;34m\u001b[0m\u001b[0;34m\u001b[0m\u001b[0m\n",
      "\u001b[0;32m~/opt/anaconda3/lib/python3.8/site-packages/pandas/core/indexing.py\u001b[0m in \u001b[0;36m__getitem__\u001b[0;34m(self, key)\u001b[0m\n\u001b[1;32m    871\u001b[0m                 \u001b[0;31m#  is_scalar_access, which that would be.\u001b[0m\u001b[0;34m\u001b[0m\u001b[0;34m\u001b[0m\u001b[0;34m\u001b[0m\u001b[0m\n\u001b[1;32m    872\u001b[0m                 \u001b[0;32mif\u001b[0m \u001b[0msection\u001b[0m\u001b[0;34m.\u001b[0m\u001b[0mndim\u001b[0m \u001b[0;34m==\u001b[0m \u001b[0mself\u001b[0m\u001b[0;34m.\u001b[0m\u001b[0mndim\u001b[0m\u001b[0;34m:\u001b[0m\u001b[0;34m\u001b[0m\u001b[0;34m\u001b[0m\u001b[0m\n\u001b[0;32m--> 873\u001b[0;31m                     \u001b[0;31m# we're in the middle of slicing through a MultiIndex\u001b[0m\u001b[0;34m\u001b[0m\u001b[0;34m\u001b[0m\u001b[0;34m\u001b[0m\u001b[0m\n\u001b[0m\u001b[1;32m    874\u001b[0m                     \u001b[0;31m# revise the key wrt to `section` by inserting an _NS\u001b[0m\u001b[0;34m\u001b[0m\u001b[0;34m\u001b[0m\u001b[0;34m\u001b[0m\u001b[0m\n\u001b[1;32m    875\u001b[0m                     \u001b[0mnew_key\u001b[0m \u001b[0;34m=\u001b[0m \u001b[0mtup\u001b[0m\u001b[0;34m[\u001b[0m\u001b[0;34m:\u001b[0m\u001b[0mi\u001b[0m\u001b[0;34m]\u001b[0m \u001b[0;34m+\u001b[0m \u001b[0;34m(\u001b[0m\u001b[0m_NS\u001b[0m\u001b[0;34m,\u001b[0m\u001b[0;34m)\u001b[0m \u001b[0;34m+\u001b[0m \u001b[0mtup\u001b[0m\u001b[0;34m[\u001b[0m\u001b[0mi\u001b[0m \u001b[0;34m+\u001b[0m \u001b[0;36m1\u001b[0m \u001b[0;34m:\u001b[0m\u001b[0;34m]\u001b[0m\u001b[0;34m\u001b[0m\u001b[0;34m\u001b[0m\u001b[0m\n",
      "\u001b[0;32m~/opt/anaconda3/lib/python3.8/site-packages/pandas/core/indexing.py\u001b[0m in \u001b[0;36m_getitem_tuple\u001b[0;34m(self, tup)\u001b[0m\n\u001b[1;32m   1042\u001b[0m                 \u001b[0;32mreturn\u001b[0m \u001b[0;32mFalse\u001b[0m\u001b[0;34m\u001b[0m\u001b[0;34m\u001b[0m\u001b[0m\n\u001b[1;32m   1043\u001b[0m \u001b[0;34m\u001b[0m\u001b[0m\n\u001b[0;32m-> 1044\u001b[0;31m             \u001b[0;32mif\u001b[0m \u001b[0misinstance\u001b[0m\u001b[0;34m(\u001b[0m\u001b[0mk\u001b[0m\u001b[0;34m,\u001b[0m \u001b[0mstr\u001b[0m\u001b[0;34m)\u001b[0m \u001b[0;32mand\u001b[0m \u001b[0max\u001b[0m\u001b[0;34m.\u001b[0m\u001b[0m_supports_partial_string_indexing\u001b[0m\u001b[0;34m:\u001b[0m\u001b[0;34m\u001b[0m\u001b[0;34m\u001b[0m\u001b[0m\n\u001b[0m\u001b[1;32m   1045\u001b[0m                 \u001b[0;31m# partial string indexing, df.loc['2000', 'A']\u001b[0m\u001b[0;34m\u001b[0m\u001b[0;34m\u001b[0m\u001b[0;34m\u001b[0m\u001b[0m\n\u001b[1;32m   1046\u001b[0m                 \u001b[0;31m# should not be considered scalar\u001b[0m\u001b[0;34m\u001b[0m\u001b[0;34m\u001b[0m\u001b[0;34m\u001b[0m\u001b[0m\n",
      "\u001b[0;32m~/opt/anaconda3/lib/python3.8/site-packages/pandas/core/indexing.py\u001b[0m in \u001b[0;36m_getitem_lowerdim\u001b[0;34m(self, tup)\u001b[0m\n\u001b[1;32m    784\u001b[0m             \u001b[0;32mreturn\u001b[0m \u001b[0many\u001b[0m\u001b[0;34m(\u001b[0m\u001b[0mis_nested_tuple\u001b[0m\u001b[0;34m(\u001b[0m\u001b[0mtup\u001b[0m\u001b[0;34m,\u001b[0m \u001b[0max\u001b[0m\u001b[0;34m)\u001b[0m \u001b[0;32mfor\u001b[0m \u001b[0max\u001b[0m \u001b[0;32min\u001b[0m \u001b[0mself\u001b[0m\u001b[0;34m.\u001b[0m\u001b[0mobj\u001b[0m\u001b[0;34m.\u001b[0m\u001b[0maxes\u001b[0m\u001b[0;34m)\u001b[0m\u001b[0;34m\u001b[0m\u001b[0;34m\u001b[0m\u001b[0m\n\u001b[1;32m    785\u001b[0m         \u001b[0;32mreturn\u001b[0m \u001b[0;32mFalse\u001b[0m\u001b[0;34m\u001b[0m\u001b[0;34m\u001b[0m\u001b[0m\n\u001b[0;32m--> 786\u001b[0;31m \u001b[0;34m\u001b[0m\u001b[0m\n\u001b[0m\u001b[1;32m    787\u001b[0m     \u001b[0;32mdef\u001b[0m \u001b[0m_convert_tuple\u001b[0m\u001b[0;34m(\u001b[0m\u001b[0mself\u001b[0m\u001b[0;34m,\u001b[0m \u001b[0mkey\u001b[0m\u001b[0;34m)\u001b[0m\u001b[0;34m:\u001b[0m\u001b[0;34m\u001b[0m\u001b[0;34m\u001b[0m\u001b[0m\n\u001b[1;32m    788\u001b[0m         \u001b[0mkeyidx\u001b[0m \u001b[0;34m=\u001b[0m \u001b[0;34m[\u001b[0m\u001b[0;34m]\u001b[0m\u001b[0;34m\u001b[0m\u001b[0;34m\u001b[0m\u001b[0m\n",
      "\u001b[0;32m~/opt/anaconda3/lib/python3.8/site-packages/pandas/core/indexing.py\u001b[0m in \u001b[0;36m_getitem_axis\u001b[0;34m(self, key, axis)\u001b[0m\n\u001b[1;32m   1108\u001b[0m         \u001b[0mIndex\u001b[0m \u001b[0mcurrent\u001b[0m \u001b[0mobject\u001b[0m \u001b[0;32mwith\u001b[0m \u001b[0man\u001b[0m \u001b[0miterable\u001b[0m \u001b[0mcollection\u001b[0m \u001b[0mof\u001b[0m \u001b[0mkeys\u001b[0m\u001b[0;34m.\u001b[0m\u001b[0;34m\u001b[0m\u001b[0;34m\u001b[0m\u001b[0m\n\u001b[1;32m   1109\u001b[0m \u001b[0;34m\u001b[0m\u001b[0m\n\u001b[0;32m-> 1110\u001b[0;31m         \u001b[0mParameters\u001b[0m\u001b[0;34m\u001b[0m\u001b[0;34m\u001b[0m\u001b[0m\n\u001b[0m\u001b[1;32m   1111\u001b[0m         \u001b[0;34m-\u001b[0m\u001b[0;34m-\u001b[0m\u001b[0;34m-\u001b[0m\u001b[0;34m-\u001b[0m\u001b[0;34m-\u001b[0m\u001b[0;34m-\u001b[0m\u001b[0;34m-\u001b[0m\u001b[0;34m-\u001b[0m\u001b[0;34m-\u001b[0m\u001b[0;34m-\u001b[0m\u001b[0;34m\u001b[0m\u001b[0;34m\u001b[0m\u001b[0m\n\u001b[1;32m   1112\u001b[0m         \u001b[0mkey\u001b[0m \u001b[0;34m:\u001b[0m \u001b[0miterable\u001b[0m\u001b[0;34m\u001b[0m\u001b[0;34m\u001b[0m\u001b[0m\n",
      "\u001b[0;32m~/opt/anaconda3/lib/python3.8/site-packages/pandas/core/indexing.py\u001b[0m in \u001b[0;36m_get_label\u001b[0;34m(self, label, axis)\u001b[0m\n\u001b[1;32m   1057\u001b[0m     \u001b[0;32mdef\u001b[0m \u001b[0m_multi_take_opportunity\u001b[0m\u001b[0;34m(\u001b[0m\u001b[0mself\u001b[0m\u001b[0;34m,\u001b[0m \u001b[0mtup\u001b[0m\u001b[0;34m:\u001b[0m \u001b[0mtuple\u001b[0m\u001b[0;34m)\u001b[0m \u001b[0;34m->\u001b[0m \u001b[0mbool\u001b[0m\u001b[0;34m:\u001b[0m\u001b[0;34m\u001b[0m\u001b[0;34m\u001b[0m\u001b[0m\n\u001b[1;32m   1058\u001b[0m         \"\"\"\n\u001b[0;32m-> 1059\u001b[0;31m         \u001b[0mCheck\u001b[0m \u001b[0mwhether\u001b[0m \u001b[0mthere\u001b[0m \u001b[0;32mis\u001b[0m \u001b[0mthe\u001b[0m \u001b[0mpossibility\u001b[0m \u001b[0mto\u001b[0m \u001b[0muse\u001b[0m\u001b[0;31m \u001b[0m\u001b[0;31m`\u001b[0m\u001b[0;31m`\u001b[0m\u001b[0m_multi_take\u001b[0m\u001b[0;31m`\u001b[0m\u001b[0;31m`\u001b[0m\u001b[0;34m.\u001b[0m\u001b[0;34m\u001b[0m\u001b[0;34m\u001b[0m\u001b[0m\n\u001b[0m\u001b[1;32m   1060\u001b[0m \u001b[0;34m\u001b[0m\u001b[0m\n\u001b[1;32m   1061\u001b[0m         \u001b[0mCurrently\u001b[0m \u001b[0mthe\u001b[0m \u001b[0mlimit\u001b[0m \u001b[0;32mis\u001b[0m \u001b[0mthat\u001b[0m \u001b[0mall\u001b[0m \u001b[0maxes\u001b[0m \u001b[0mbeing\u001b[0m \u001b[0mindexed\u001b[0m\u001b[0;34m,\u001b[0m \u001b[0mmust\u001b[0m \u001b[0mbe\u001b[0m \u001b[0mindexed\u001b[0m \u001b[0;32mwith\u001b[0m\u001b[0;34m\u001b[0m\u001b[0;34m\u001b[0m\u001b[0m\n",
      "\u001b[0;32m~/opt/anaconda3/lib/python3.8/site-packages/pandas/core/generic.py\u001b[0m in \u001b[0;36mxs\u001b[0;34m(self, key, axis, level, drop_level)\u001b[0m\n\u001b[1;32m   3480\u001b[0m             \u001b[0mRows\u001b[0m \u001b[0mto\u001b[0m \u001b[0mwrite\u001b[0m \u001b[0mat\u001b[0m \u001b[0ma\u001b[0m \u001b[0mtime\u001b[0m\u001b[0;34m.\u001b[0m\u001b[0;34m\u001b[0m\u001b[0;34m\u001b[0m\u001b[0m\n\u001b[1;32m   3481\u001b[0m         \u001b[0mdate_format\u001b[0m \u001b[0;34m:\u001b[0m \u001b[0mstr\u001b[0m\u001b[0;34m,\u001b[0m \u001b[0mdefault\u001b[0m \u001b[0;32mNone\u001b[0m\u001b[0;34m\u001b[0m\u001b[0;34m\u001b[0m\u001b[0m\n\u001b[0;32m-> 3482\u001b[0;31m             \u001b[0mFormat\u001b[0m \u001b[0mstring\u001b[0m \u001b[0;32mfor\u001b[0m \u001b[0mdatetime\u001b[0m \u001b[0mobjects\u001b[0m\u001b[0;34m.\u001b[0m\u001b[0;34m\u001b[0m\u001b[0;34m\u001b[0m\u001b[0m\n\u001b[0m\u001b[1;32m   3483\u001b[0m         \u001b[0mdoublequote\u001b[0m \u001b[0;34m:\u001b[0m \u001b[0mbool\u001b[0m\u001b[0;34m,\u001b[0m \u001b[0mdefault\u001b[0m \u001b[0;32mTrue\u001b[0m\u001b[0;34m\u001b[0m\u001b[0;34m\u001b[0m\u001b[0m\n\u001b[1;32m   3484\u001b[0m             \u001b[0mControl\u001b[0m \u001b[0mquoting\u001b[0m \u001b[0mof\u001b[0m\u001b[0;31m \u001b[0m\u001b[0;31m`\u001b[0m\u001b[0mquotechar\u001b[0m\u001b[0;31m`\u001b[0m \u001b[0minside\u001b[0m \u001b[0ma\u001b[0m \u001b[0mfield\u001b[0m\u001b[0;34m.\u001b[0m\u001b[0;34m\u001b[0m\u001b[0;34m\u001b[0m\u001b[0m\n",
      "\u001b[0;32m~/opt/anaconda3/lib/python3.8/site-packages/pandas/core/indexes/range.py\u001b[0m in \u001b[0;36mget_loc\u001b[0;34m(self, key, method, tolerance)\u001b[0m\n\u001b[1;32m    351\u001b[0m     \u001b[0;34m@\u001b[0m\u001b[0mproperty\u001b[0m\u001b[0;34m\u001b[0m\u001b[0;34m\u001b[0m\u001b[0m\n\u001b[1;32m    352\u001b[0m     \u001b[0;32mdef\u001b[0m \u001b[0mis_unique\u001b[0m\u001b[0;34m(\u001b[0m\u001b[0mself\u001b[0m\u001b[0;34m)\u001b[0m \u001b[0;34m->\u001b[0m \u001b[0mbool\u001b[0m\u001b[0;34m:\u001b[0m\u001b[0;34m\u001b[0m\u001b[0;34m\u001b[0m\u001b[0m\n\u001b[0;32m--> 353\u001b[0;31m         \u001b[0;34m\"\"\"return if the index has unique values\"\"\"\u001b[0m\u001b[0;34m\u001b[0m\u001b[0;34m\u001b[0m\u001b[0m\n\u001b[0m\u001b[1;32m    354\u001b[0m         \u001b[0;32mreturn\u001b[0m \u001b[0;32mTrue\u001b[0m\u001b[0;34m\u001b[0m\u001b[0;34m\u001b[0m\u001b[0m\n\u001b[1;32m    355\u001b[0m \u001b[0;34m\u001b[0m\u001b[0m\n",
      "\u001b[0;31mKeyError\u001b[0m: 1055"
     ]
    }
   ],
   "source": [
    "# the process has been repeated for all three dataset 'fear','anger' and 'sadness'\n",
    "# 211 samples never used in training were picked for testing, 211*5=1055 segments were used to generate raw accuracy\n",
    "comb_anger_test=pd.concat([mean_anger_test,mean_anger_test,mean_anger_test,mean_anger_test,mean_anger_test])\n",
    "dataset_test=TQI_DS_2(comb_anger_test.reset_index())\n",
    "path = '/Users/ywrz/Downloads/voice_labeling_report_21_May_22/processed/sample_list_fear_test' \n",
    "\n",
    "os.makedirs(path, exist_ok = True) \n",
    "# torch.save(tensor , os.path.join(path,'model.pth'))\n",
    "\n",
    "for idx, data in enumerate(dataset_test):\n",
    "\n",
    "    torch.save(data, os.path.join(path,f'sample_{idx}'))\n"
   ]
  },
  {
   "cell_type": "code",
   "execution_count": null,
   "id": "3c65b677",
   "metadata": {},
   "outputs": [],
   "source": [
    "# reading the local stored dataset and loaded  into batches \n",
    "dataset2=transformed_data('/Users/ywrz/Downloads/voice_labeling_report_21_May_22/processed/sample_list_anger_test')\n",
    "_, test_ds = random_split(dataset2, [0,1055])\n",
    "test_dl = torch.utils.data.DataLoader(test_ds,batch_size=1055, shuffle=True)"
   ]
  },
  {
   "cell_type": "code",
   "execution_count": 1240,
   "id": "0e3e1c34",
   "metadata": {},
   "outputs": [
    {
     "name": "stdout",
     "output_type": "stream",
     "text": [
      "Accuracy: 0.31, Total items: 1055\n"
     ]
    }
   ],
   "source": [
    "# raw accuracy \n",
    "\n",
    "correct_prediction = 0\n",
    "total_prediction = 0\n",
    "\n",
    "with torch.no_grad():\n",
    "    for data in test_dl:\n",
    "      \n",
    "      # Get the input features and target labels, and put them on the GPU\n",
    "        inputs, labels, wav = data[0], data[1], data[2] \n",
    "        \n",
    "      # Normalize the inputs\n",
    "#         inputs_m, inputs_s = inputs.mean(), inputs.std()\n",
    "#         inputs = (inputs - inputs_m) / inputs_s\n",
    "      # Get predictions\n",
    "        outputs =model_sadness(inputs)\n",
    "    \n",
    "      # Get the predicted class with the highest score\n",
    "            \n",
    "        \n",
    "    \n",
    "        _, prediction = torch.max(outputs,1)\n",
    "        \n",
    "\n",
    "      # Count of predictions that matched the target label\n",
    "        correct_prediction += (prediction == labels).sum().item()\n",
    "        total_prediction += prediction.shape[0]\n",
    "\n",
    "acc = correct_prediction/total_prediction\n",
    "print(f'Accuracy: {acc:.2f}, Total items: {total_prediction}')\n"
   ]
  },
  {
   "cell_type": "code",
   "execution_count": 1236,
   "id": "f44f5b25",
   "metadata": {},
   "outputs": [
    {
     "data": {
      "text/plain": [
       "0.6445497630331753"
      ]
     },
     "execution_count": 1236,
     "metadata": {},
     "output_type": "execute_result"
    }
   ],
   "source": [
    "#predition using voting methods, final accuracy. The most common value among five segments for each sample.\n",
    "test_prediction = ({\n",
    "    '.wav':wav,\n",
    "    'pred_1' : prediction,\n",
    "    \n",
    "    'true_label':labels\n",
    "               })\n",
    "test_prediction = pd.DataFrame(test_prediction)\n",
    "a=test_prediction.groupby('.wav').agg({'pred_1': lambda x:x.value_counts().index[0],\n",
    "                                       'true_label': lambda x:x.value_counts().index[0]}).reset_index()\n",
    "\n",
    "(a['pred_1']==a['true_label']).sum()/211"
   ]
  },
  {
   "cell_type": "markdown",
   "id": "ad162d43",
   "metadata": {},
   "source": [
    "<span style=\"color:red;font-weight:1800;font-size:30px\">\n",
    "Saving models\n",
    "</span><br/>"
   ]
  },
  {
   "cell_type": "code",
   "execution_count": 1237,
   "id": "e10794e0",
   "metadata": {},
   "outputs": [],
   "source": [
    "#save model\n",
    "torch.save(model_sadness.state_dict(),'cnn_model_sadness.pth')\n",
    "torch.save(model_fear.state_dict(),'cnn_model_fear.pth')\n",
    "torch.save(model_anger.state_dict(),'cnn_model_anger.pth')\n",
    "# test_model=Classifier()\n",
    "# test_model.load_state_dict(torch.load('model_fear.pth'))"
   ]
  },
  {
   "cell_type": "markdown",
   "id": "14658355",
   "metadata": {},
   "source": [
    "<span style=\"color:red;font-weight:1800;font-size:20px\">\n",
    "loading saved model for future training\n",
    "</span><br/>"
   ]
  },
  {
   "cell_type": "code",
   "execution_count": 1028,
   "id": "9c00cd48",
   "metadata": {},
   "outputs": [
    {
     "data": {
      "text/plain": [
       "<All keys matched successfully>"
      ]
     },
     "execution_count": 1028,
     "metadata": {},
     "output_type": "execute_result"
    }
   ],
   "source": [
    "#loading models examples\n",
    "test_model=Classifier()\n",
    "test_model.load_state_dict(torch.load('model_fear.pth'))"
   ]
  },
  {
   "cell_type": "markdown",
   "id": "4d68e38b",
   "metadata": {},
   "source": [
    "<span style=\"color:red;font-weight:1800;font-size:30px\">\n",
    "ResNet34 model\n",
    "</span><br/><br/>\n"
   ]
  },
  {
   "cell_type": "code",
   "execution_count": 1218,
   "id": "c76035c8",
   "metadata": {},
   "outputs": [
    {
     "data": {
      "text/plain": [
       "ResNet(\n",
       "  (conv1): Conv2d(1, 64, kernel_size=(7, 7), stride=(2, 2), padding=(3, 3), bias=False)\n",
       "  (bn1): BatchNorm2d(64, eps=1e-05, momentum=0.1, affine=True, track_running_stats=True)\n",
       "  (relu): ReLU(inplace=True)\n",
       "  (maxpool): MaxPool2d(kernel_size=3, stride=2, padding=1, dilation=1, ceil_mode=False)\n",
       "  (layer1): Sequential(\n",
       "    (0): BasicBlock(\n",
       "      (conv1): Conv2d(64, 64, kernel_size=(3, 3), stride=(1, 1), padding=(1, 1), bias=False)\n",
       "      (bn1): BatchNorm2d(64, eps=1e-05, momentum=0.1, affine=True, track_running_stats=True)\n",
       "      (relu): ReLU(inplace=True)\n",
       "      (conv2): Conv2d(64, 64, kernel_size=(3, 3), stride=(1, 1), padding=(1, 1), bias=False)\n",
       "      (bn2): BatchNorm2d(64, eps=1e-05, momentum=0.1, affine=True, track_running_stats=True)\n",
       "    )\n",
       "    (1): BasicBlock(\n",
       "      (conv1): Conv2d(64, 64, kernel_size=(3, 3), stride=(1, 1), padding=(1, 1), bias=False)\n",
       "      (bn1): BatchNorm2d(64, eps=1e-05, momentum=0.1, affine=True, track_running_stats=True)\n",
       "      (relu): ReLU(inplace=True)\n",
       "      (conv2): Conv2d(64, 64, kernel_size=(3, 3), stride=(1, 1), padding=(1, 1), bias=False)\n",
       "      (bn2): BatchNorm2d(64, eps=1e-05, momentum=0.1, affine=True, track_running_stats=True)\n",
       "    )\n",
       "    (2): BasicBlock(\n",
       "      (conv1): Conv2d(64, 64, kernel_size=(3, 3), stride=(1, 1), padding=(1, 1), bias=False)\n",
       "      (bn1): BatchNorm2d(64, eps=1e-05, momentum=0.1, affine=True, track_running_stats=True)\n",
       "      (relu): ReLU(inplace=True)\n",
       "      (conv2): Conv2d(64, 64, kernel_size=(3, 3), stride=(1, 1), padding=(1, 1), bias=False)\n",
       "      (bn2): BatchNorm2d(64, eps=1e-05, momentum=0.1, affine=True, track_running_stats=True)\n",
       "    )\n",
       "  )\n",
       "  (layer2): Sequential(\n",
       "    (0): BasicBlock(\n",
       "      (conv1): Conv2d(64, 128, kernel_size=(3, 3), stride=(2, 2), padding=(1, 1), bias=False)\n",
       "      (bn1): BatchNorm2d(128, eps=1e-05, momentum=0.1, affine=True, track_running_stats=True)\n",
       "      (relu): ReLU(inplace=True)\n",
       "      (conv2): Conv2d(128, 128, kernel_size=(3, 3), stride=(1, 1), padding=(1, 1), bias=False)\n",
       "      (bn2): BatchNorm2d(128, eps=1e-05, momentum=0.1, affine=True, track_running_stats=True)\n",
       "      (downsample): Sequential(\n",
       "        (0): Conv2d(64, 128, kernel_size=(1, 1), stride=(2, 2), bias=False)\n",
       "        (1): BatchNorm2d(128, eps=1e-05, momentum=0.1, affine=True, track_running_stats=True)\n",
       "      )\n",
       "    )\n",
       "    (1): BasicBlock(\n",
       "      (conv1): Conv2d(128, 128, kernel_size=(3, 3), stride=(1, 1), padding=(1, 1), bias=False)\n",
       "      (bn1): BatchNorm2d(128, eps=1e-05, momentum=0.1, affine=True, track_running_stats=True)\n",
       "      (relu): ReLU(inplace=True)\n",
       "      (conv2): Conv2d(128, 128, kernel_size=(3, 3), stride=(1, 1), padding=(1, 1), bias=False)\n",
       "      (bn2): BatchNorm2d(128, eps=1e-05, momentum=0.1, affine=True, track_running_stats=True)\n",
       "    )\n",
       "    (2): BasicBlock(\n",
       "      (conv1): Conv2d(128, 128, kernel_size=(3, 3), stride=(1, 1), padding=(1, 1), bias=False)\n",
       "      (bn1): BatchNorm2d(128, eps=1e-05, momentum=0.1, affine=True, track_running_stats=True)\n",
       "      (relu): ReLU(inplace=True)\n",
       "      (conv2): Conv2d(128, 128, kernel_size=(3, 3), stride=(1, 1), padding=(1, 1), bias=False)\n",
       "      (bn2): BatchNorm2d(128, eps=1e-05, momentum=0.1, affine=True, track_running_stats=True)\n",
       "    )\n",
       "    (3): BasicBlock(\n",
       "      (conv1): Conv2d(128, 128, kernel_size=(3, 3), stride=(1, 1), padding=(1, 1), bias=False)\n",
       "      (bn1): BatchNorm2d(128, eps=1e-05, momentum=0.1, affine=True, track_running_stats=True)\n",
       "      (relu): ReLU(inplace=True)\n",
       "      (conv2): Conv2d(128, 128, kernel_size=(3, 3), stride=(1, 1), padding=(1, 1), bias=False)\n",
       "      (bn2): BatchNorm2d(128, eps=1e-05, momentum=0.1, affine=True, track_running_stats=True)\n",
       "    )\n",
       "  )\n",
       "  (layer3): Sequential(\n",
       "    (0): BasicBlock(\n",
       "      (conv1): Conv2d(128, 256, kernel_size=(3, 3), stride=(2, 2), padding=(1, 1), bias=False)\n",
       "      (bn1): BatchNorm2d(256, eps=1e-05, momentum=0.1, affine=True, track_running_stats=True)\n",
       "      (relu): ReLU(inplace=True)\n",
       "      (conv2): Conv2d(256, 256, kernel_size=(3, 3), stride=(1, 1), padding=(1, 1), bias=False)\n",
       "      (bn2): BatchNorm2d(256, eps=1e-05, momentum=0.1, affine=True, track_running_stats=True)\n",
       "      (downsample): Sequential(\n",
       "        (0): Conv2d(128, 256, kernel_size=(1, 1), stride=(2, 2), bias=False)\n",
       "        (1): BatchNorm2d(256, eps=1e-05, momentum=0.1, affine=True, track_running_stats=True)\n",
       "      )\n",
       "    )\n",
       "    (1): BasicBlock(\n",
       "      (conv1): Conv2d(256, 256, kernel_size=(3, 3), stride=(1, 1), padding=(1, 1), bias=False)\n",
       "      (bn1): BatchNorm2d(256, eps=1e-05, momentum=0.1, affine=True, track_running_stats=True)\n",
       "      (relu): ReLU(inplace=True)\n",
       "      (conv2): Conv2d(256, 256, kernel_size=(3, 3), stride=(1, 1), padding=(1, 1), bias=False)\n",
       "      (bn2): BatchNorm2d(256, eps=1e-05, momentum=0.1, affine=True, track_running_stats=True)\n",
       "    )\n",
       "    (2): BasicBlock(\n",
       "      (conv1): Conv2d(256, 256, kernel_size=(3, 3), stride=(1, 1), padding=(1, 1), bias=False)\n",
       "      (bn1): BatchNorm2d(256, eps=1e-05, momentum=0.1, affine=True, track_running_stats=True)\n",
       "      (relu): ReLU(inplace=True)\n",
       "      (conv2): Conv2d(256, 256, kernel_size=(3, 3), stride=(1, 1), padding=(1, 1), bias=False)\n",
       "      (bn2): BatchNorm2d(256, eps=1e-05, momentum=0.1, affine=True, track_running_stats=True)\n",
       "    )\n",
       "    (3): BasicBlock(\n",
       "      (conv1): Conv2d(256, 256, kernel_size=(3, 3), stride=(1, 1), padding=(1, 1), bias=False)\n",
       "      (bn1): BatchNorm2d(256, eps=1e-05, momentum=0.1, affine=True, track_running_stats=True)\n",
       "      (relu): ReLU(inplace=True)\n",
       "      (conv2): Conv2d(256, 256, kernel_size=(3, 3), stride=(1, 1), padding=(1, 1), bias=False)\n",
       "      (bn2): BatchNorm2d(256, eps=1e-05, momentum=0.1, affine=True, track_running_stats=True)\n",
       "    )\n",
       "    (4): BasicBlock(\n",
       "      (conv1): Conv2d(256, 256, kernel_size=(3, 3), stride=(1, 1), padding=(1, 1), bias=False)\n",
       "      (bn1): BatchNorm2d(256, eps=1e-05, momentum=0.1, affine=True, track_running_stats=True)\n",
       "      (relu): ReLU(inplace=True)\n",
       "      (conv2): Conv2d(256, 256, kernel_size=(3, 3), stride=(1, 1), padding=(1, 1), bias=False)\n",
       "      (bn2): BatchNorm2d(256, eps=1e-05, momentum=0.1, affine=True, track_running_stats=True)\n",
       "    )\n",
       "    (5): BasicBlock(\n",
       "      (conv1): Conv2d(256, 256, kernel_size=(3, 3), stride=(1, 1), padding=(1, 1), bias=False)\n",
       "      (bn1): BatchNorm2d(256, eps=1e-05, momentum=0.1, affine=True, track_running_stats=True)\n",
       "      (relu): ReLU(inplace=True)\n",
       "      (conv2): Conv2d(256, 256, kernel_size=(3, 3), stride=(1, 1), padding=(1, 1), bias=False)\n",
       "      (bn2): BatchNorm2d(256, eps=1e-05, momentum=0.1, affine=True, track_running_stats=True)\n",
       "    )\n",
       "  )\n",
       "  (layer4): Sequential(\n",
       "    (0): BasicBlock(\n",
       "      (conv1): Conv2d(256, 512, kernel_size=(3, 3), stride=(2, 2), padding=(1, 1), bias=False)\n",
       "      (bn1): BatchNorm2d(512, eps=1e-05, momentum=0.1, affine=True, track_running_stats=True)\n",
       "      (relu): ReLU(inplace=True)\n",
       "      (conv2): Conv2d(512, 512, kernel_size=(3, 3), stride=(1, 1), padding=(1, 1), bias=False)\n",
       "      (bn2): BatchNorm2d(512, eps=1e-05, momentum=0.1, affine=True, track_running_stats=True)\n",
       "      (downsample): Sequential(\n",
       "        (0): Conv2d(256, 512, kernel_size=(1, 1), stride=(2, 2), bias=False)\n",
       "        (1): BatchNorm2d(512, eps=1e-05, momentum=0.1, affine=True, track_running_stats=True)\n",
       "      )\n",
       "    )\n",
       "    (1): BasicBlock(\n",
       "      (conv1): Conv2d(512, 512, kernel_size=(3, 3), stride=(1, 1), padding=(1, 1), bias=False)\n",
       "      (bn1): BatchNorm2d(512, eps=1e-05, momentum=0.1, affine=True, track_running_stats=True)\n",
       "      (relu): ReLU(inplace=True)\n",
       "      (conv2): Conv2d(512, 512, kernel_size=(3, 3), stride=(1, 1), padding=(1, 1), bias=False)\n",
       "      (bn2): BatchNorm2d(512, eps=1e-05, momentum=0.1, affine=True, track_running_stats=True)\n",
       "    )\n",
       "    (2): BasicBlock(\n",
       "      (conv1): Conv2d(512, 512, kernel_size=(3, 3), stride=(1, 1), padding=(1, 1), bias=False)\n",
       "      (bn1): BatchNorm2d(512, eps=1e-05, momentum=0.1, affine=True, track_running_stats=True)\n",
       "      (relu): ReLU(inplace=True)\n",
       "      (conv2): Conv2d(512, 512, kernel_size=(3, 3), stride=(1, 1), padding=(1, 1), bias=False)\n",
       "      (bn2): BatchNorm2d(512, eps=1e-05, momentum=0.1, affine=True, track_running_stats=True)\n",
       "    )\n",
       "  )\n",
       "  (avgpool): AdaptiveAvgPool2d(output_size=(1, 1))\n",
       "  (fc): Linear(in_features=512, out_features=5, bias=True)\n",
       ")"
      ]
     },
     "execution_count": 1218,
     "metadata": {},
     "output_type": "execute_result"
    }
   ],
   "source": [
    "from torchvision.models import resnet34\n",
    "import torch\n",
    "import torch.nn as nn\n",
    "import torch.optim as optim\n",
    "# if torch.cuda.is_available():\n",
    "#     device=torch.device('cuda:0')\n",
    "# else:\n",
    "#     device=torch.device('cpu')\n",
    "resnet_model = resnet34(pretrained=True)\n",
    "resnet_model.fc = nn.Linear(512,5)\n",
    "resnet_model.conv1 = nn.Conv2d(1, 64, kernel_size=(7, 7), stride=(2, 2), padding=(3, 3), bias=False)\n",
    "\n",
    "resnet_model"
   ]
  },
  {
   "cell_type": "markdown",
   "id": "0cffdb9f",
   "metadata": {},
   "source": [
    "<span style=\"color:red;font-weight:1800;font-size:20px\">\n",
    "Training model\n",
    "</span><br/>"
   ]
  },
  {
   "cell_type": "code",
   "execution_count": 1220,
   "id": "9368f3fe",
   "metadata": {},
   "outputs": [
    {
     "data": {
      "application/vnd.jupyter.widget-view+json": {
       "model_id": "a12b96650e544863b304ca8ce00a7fd7",
       "version_major": 2,
       "version_minor": 0
      },
      "text/plain": [
       "  0%|          | 0/132 [00:00<?, ?it/s]"
      ]
     },
     "metadata": {},
     "output_type": "display_data"
    },
    {
     "name": "stdout",
     "output_type": "stream",
     "text": [
      "Epoch: 0, Loss: 1.16, Accuracy: 0.46\n"
     ]
    },
    {
     "data": {
      "application/vnd.jupyter.widget-view+json": {
       "model_id": "de566c28d7a1417ea5a574837b565aee",
       "version_major": 2,
       "version_minor": 0
      },
      "text/plain": [
       "  0%|          | 0/132 [00:00<?, ?it/s]"
      ]
     },
     "metadata": {},
     "output_type": "display_data"
    },
    {
     "name": "stdout",
     "output_type": "stream",
     "text": [
      "Epoch: 1, Loss: 0.99, Accuracy: 0.45\n"
     ]
    },
    {
     "data": {
      "application/vnd.jupyter.widget-view+json": {
       "model_id": "d97fc4207f354513aa6fcf6d259b6747",
       "version_major": 2,
       "version_minor": 0
      },
      "text/plain": [
       "  0%|          | 0/132 [00:00<?, ?it/s]"
      ]
     },
     "metadata": {},
     "output_type": "display_data"
    },
    {
     "name": "stdout",
     "output_type": "stream",
     "text": [
      "Epoch: 2, Loss: 0.98, Accuracy: 0.45\n"
     ]
    },
    {
     "data": {
      "application/vnd.jupyter.widget-view+json": {
       "model_id": "5913276dd9ed4f59b5b30ddde0236f6d",
       "version_major": 2,
       "version_minor": 0
      },
      "text/plain": [
       "  0%|          | 0/132 [00:00<?, ?it/s]"
      ]
     },
     "metadata": {},
     "output_type": "display_data"
    },
    {
     "name": "stdout",
     "output_type": "stream",
     "text": [
      "Epoch: 3, Loss: 0.97, Accuracy: 0.46\n"
     ]
    },
    {
     "data": {
      "application/vnd.jupyter.widget-view+json": {
       "model_id": "6685187a79b44602b20c5d8e86a47a9f",
       "version_major": 2,
       "version_minor": 0
      },
      "text/plain": [
       "  0%|          | 0/132 [00:00<?, ?it/s]"
      ]
     },
     "metadata": {},
     "output_type": "display_data"
    },
    {
     "name": "stdout",
     "output_type": "stream",
     "text": [
      "Epoch: 4, Loss: 0.98, Accuracy: 0.46\n"
     ]
    },
    {
     "data": {
      "application/vnd.jupyter.widget-view+json": {
       "model_id": "61065d0198c84d34afdaee7e04db0f44",
       "version_major": 2,
       "version_minor": 0
      },
      "text/plain": [
       "  0%|          | 0/132 [00:00<?, ?it/s]"
      ]
     },
     "metadata": {},
     "output_type": "display_data"
    },
    {
     "name": "stdout",
     "output_type": "stream",
     "text": [
      "Epoch: 5, Loss: 0.97, Accuracy: 0.45\n"
     ]
    },
    {
     "data": {
      "application/vnd.jupyter.widget-view+json": {
       "model_id": "b802686aed05497ab1448bb67dfdf5e5",
       "version_major": 2,
       "version_minor": 0
      },
      "text/plain": [
       "  0%|          | 0/132 [00:00<?, ?it/s]"
      ]
     },
     "metadata": {},
     "output_type": "display_data"
    },
    {
     "name": "stdout",
     "output_type": "stream",
     "text": [
      "Epoch: 6, Loss: 0.97, Accuracy: 0.46\n"
     ]
    },
    {
     "data": {
      "application/vnd.jupyter.widget-view+json": {
       "model_id": "77941f383ac54fffbe92a206676d6b4c",
       "version_major": 2,
       "version_minor": 0
      },
      "text/plain": [
       "  0%|          | 0/132 [00:00<?, ?it/s]"
      ]
     },
     "metadata": {},
     "output_type": "display_data"
    },
    {
     "name": "stdout",
     "output_type": "stream",
     "text": [
      "Epoch: 7, Loss: 0.97, Accuracy: 0.47\n"
     ]
    },
    {
     "data": {
      "application/vnd.jupyter.widget-view+json": {
       "model_id": "5fa297293040444aa18442b83863563c",
       "version_major": 2,
       "version_minor": 0
      },
      "text/plain": [
       "  0%|          | 0/132 [00:00<?, ?it/s]"
      ]
     },
     "metadata": {},
     "output_type": "display_data"
    },
    {
     "name": "stdout",
     "output_type": "stream",
     "text": [
      "Epoch: 8, Loss: 0.97, Accuracy: 0.46\n"
     ]
    },
    {
     "data": {
      "application/vnd.jupyter.widget-view+json": {
       "model_id": "2a51fcae6962435284678dc04f42b8e2",
       "version_major": 2,
       "version_minor": 0
      },
      "text/plain": [
       "  0%|          | 0/132 [00:00<?, ?it/s]"
      ]
     },
     "metadata": {},
     "output_type": "display_data"
    },
    {
     "name": "stdout",
     "output_type": "stream",
     "text": [
      "Epoch: 9, Loss: 0.96, Accuracy: 0.46\n"
     ]
    }
   ],
   "source": [
    "#training model\n",
    "\n",
    "# ----------------------------\n",
    "# Training Loop\n",
    "# ----------------------------\n",
    "loss_record_resnet=[]\n",
    "accuracy_record_resnet=[]\n",
    "\n",
    "\n",
    "def training(model, train_dl, num_epochs):\n",
    "  # Loss Function, Optimizer and Scheduler\n",
    "    loss_record_resent=[]\n",
    "    \n",
    "    criterion = nn.CrossEntropyLoss()\n",
    "    optimizer = torch.optim.Adam(model.parameters(),lr=0.01)\n",
    "#   scheduler = torch.optim.lr_scheduler.OneCycleLR(optimizer, max_lr=0.001,\n",
    "#                                                 steps_per_epoch=int(len(train_dl)),\n",
    "#                                                 epochs=num_epochs,\n",
    "#                                                 anneal_strategy='linear')\n",
    "\n",
    "  # Repeat for each epoch\n",
    "    for epoch in range(num_epochs):\n",
    "        running_loss = 0.0\n",
    "        correct_prediction = 0\n",
    "        total_prediction = 0\n",
    "\n",
    "    # Repeat for each batch in the training set\n",
    "        \n",
    "        \n",
    "        \n",
    "        for i, data in enumerate(tqdm_notebook(train_dl)):\n",
    "        # Get the input features and target labels, and put them on the GPU\n",
    "            inputs, labels = data[0], data[1]\n",
    "\n",
    "        # Normalize the inputs\n",
    "            inputs_m, inputs_s = inputs.mean(), inputs.std()\n",
    "            inputs = (inputs - inputs_m) / inputs_s\n",
    "\n",
    "        # Zero the parameter gradients\n",
    "            optimizer.zero_grad()\n",
    "\n",
    "        # forward + backward + optimize\n",
    "            outputs = model(inputs)\n",
    "            loss = criterion(outputs, labels)\n",
    "            loss.backward()\n",
    "            optimizer.step()\n",
    "            \n",
    "\n",
    "        # Keep stats for Loss and Accuracy\n",
    "            running_loss += loss.item()\n",
    "\n",
    "        # Get the predicted class with the highest score\n",
    "            _, prediction = torch.max(outputs,1)\n",
    "            # Count of predictions that matched the target label\n",
    "            correct_prediction += (prediction == labels).sum().item()\n",
    "            total_prediction += prediction.shape[0]\n",
    "\n",
    "        #if i % 10 == 0:    # print every 10 mini-batches\n",
    "        #    print('[%d, %5d] loss: %.3f' % (epoch + 1, i + 1, running_loss / 10))\n",
    "    \n",
    "    # Print stats at the end of the epoch\n",
    "        num_batches = len(train_dl)\n",
    "        avg_loss = running_loss / num_batches\n",
    "        acc = correct_prediction/total_prediction\n",
    "        print(f'Epoch: {epoch}, Loss: {avg_loss:.2f}, Accuracy: {acc:.2f}')\n",
    "        loss_record_resnet.append(avg_loss)\n",
    "        accuracy_record_resnet.append(acc)\n",
    "        \n",
    "   \n",
    "        \n",
    "        \n",
    "num_epochs=10  # Just for demo, adjust this higher.\n",
    "training(resnet_model, train_dl, 10)\n"
   ]
  },
  {
   "cell_type": "markdown",
   "id": "1020b125",
   "metadata": {},
   "source": [
    "<span style=\"color:red;font-weight:1800;font-size:20px\">\n",
    "loss curve during training\n",
    "</span>\n"
   ]
  },
  {
   "cell_type": "code",
   "execution_count": 1242,
   "id": "0db7207c",
   "metadata": {},
   "outputs": [
    {
     "data": {
      "text/plain": [
       "<matplotlib.legend.Legend at 0x7fb29226c7f0>"
      ]
     },
     "execution_count": 1242,
     "metadata": {},
     "output_type": "execute_result"
    },
    {
     "data": {
      "image/png": "[encoded data removed]",
      "text/plain": [
       "<Figure size 1920x720 with 2 Axes>"
      ]
     },
     "metadata": {
      "needs_background": "light"
     },
     "output_type": "display_data"
    }
   ],
   "source": [
    "plt.figure(dpi=120,figsize=(16,6))\n",
    "plt.subplot(1, 2, 1) # row 1, col 2 index 1\n",
    "\n",
    "plt.plot(loss_record_resnet, 'b--^', label='train_loss')\n",
    "\n",
    "plt.xlabel(\"Epoch\",size=15)\n",
    "plt.ylabel(\"Avg_loss\",size=15)\n",
    "plt.title(\"resnet_fear\")\n",
    "plt.legend(loc='best')\n",
    "\n",
    "plt.subplot(1, 2, 2) # row 1, col 2 index 1\n",
    "plt.plot(accuracy_record_resnet, 'r--^', label='Accuracy')\n",
    "\n",
    "plt.xlabel(\"Epoch\",size=15)\n",
    "plt.ylabel(\"Accuracy\",size=15)\n",
    "plt.title(\"resnet_fear\")\n",
    "plt.legend(loc='best')\n"
   ]
  },
  {
   "cell_type": "code",
   "execution_count": 1222,
   "id": "376a2e4f",
   "metadata": {},
   "outputs": [],
   "source": [
    "# Saving model\n",
    "torch.save(resnet_model.state_dict(),'resent_model.pth')"
   ]
  },
  {
   "cell_type": "markdown",
   "id": "665ed99a",
   "metadata": {},
   "source": [
    "<span style=\"color:red;font-weight:1800;font-size:30px\">\n",
    "M5 model\n",
    "</span><br/><br/>\n",
    "<span style=\"color:red;font-weight:1800;font-size:20px\">\n",
    "Wav2vec 2.0 feature extraction\n",
    "</span>"
   ]
  },
  {
   "cell_type": "code",
   "execution_count": 1243,
   "id": "1dbd581c",
   "metadata": {},
   "outputs": [
    {
     "data": {
      "text/plain": [
       "(1, 1453739)"
      ]
     },
     "execution_count": 1243,
     "metadata": {},
     "output_type": "execute_result"
    }
   ],
   "source": [
    "from transformers import AutoFeatureExtractor\n",
    "model_checkpoint = \"facebook/wav2vec2-base-960h\"\n",
    "batch_size = 32\n",
    "feature_extractor = AutoFeatureExtractor.from_pretrained(model_checkpoint)\n",
    "feature_extractor(torchaudio.load('16Khz_1173_GM1001_1326493712.wav')[0],sampling_rate=16000)['input_values'][0].shape"
   ]
  },
  {
   "cell_type": "markdown",
   "id": "c14f331b",
   "metadata": {},
   "source": [
    "<span style=\"color:red;font-weight:1800;font-size:20px\">\n",
    "Dataset generation using wav2vec, five segments will be used for each sample\n",
    "</span>"
   ]
  },
  {
   "cell_type": "code",
   "execution_count": 1247,
   "id": "a6a77cf8",
   "metadata": {},
   "outputs": [],
   "source": [
    "\n",
    "class wav2vect_DS(Dataset):\n",
    "    def __init__(self, df_lable, data_path='',prefix='16Khz_'):\n",
    "        self.df = df_lable\n",
    "        self.data_path = str(data_path)\n",
    "        self.prefix=prefix\n",
    "#     self.duration = 4000\n",
    "#     self.sr = 44100\n",
    "#     self.channel = 2\n",
    "#     self.shift_pct = 0.4\n",
    "            \n",
    "  # ----------------------------\n",
    "  # Number of items in dataset\n",
    "  # ----------------------------\n",
    "    def __len__(self):\n",
    "        return len(self.df) \n",
    "    \n",
    "  # ----------------------------\n",
    "  # Get i'th item in dataset\n",
    "  # ----------------------------\n",
    "    def __getitem__(self, idx):\n",
    "    # Absolute file path of the audio file - concatenate the audio directory with\n",
    "    # the relative path\n",
    "        audio_file = self.data_path + self.prefix+ self.df.loc[idx, 'path']\n",
    "        \n",
    "    # Get the Class ID\n",
    "        class_id = self.df.loc[idx, 'label_ID']\n",
    "        class_id_1=audio_file\n",
    "        waveform,_ = torchaudio.load(audio_file)\n",
    "        waveform=waveform[:1,:]\n",
    "        audio_tensor=feature_extractor(waveform,sampling_rate=16000)['input_values'][0][:1,:]\n",
    "        \n",
    "        \n",
    "        if audio_tensor.shape[1]>=78530:\n",
    "            start_point=random.randint(0,waveform.shape[1]-79531)\n",
    "            audio_tensor= audio_tensor[:,start_point:start_point+72000]\n",
    "            \n",
    "            return audio_tensor, class_id,class_id_1\n",
    "        \n",
    "        else:\n",
    "            audio_file = '16Khz_6709_53113_1570147200.wav'\n",
    "            class_id_1='16Khz_6709_53113_1570147200.wav'\n",
    "            waveform,_ = torchaudio.load(audio_file)\n",
    "            waveform=waveform[:1,:]\n",
    "            audio_tensor=feature_extractor(waveform,sampling_rate=16000)['input_values'][0][:1,:]\n",
    "            start_point=random.randint(0,waveform.shape[1]-79531)\n",
    "            audio_tensor= audio_tensor[:,start_point:start_point+72000]\n",
    "                \n",
    "            class_id = 2\n",
    "\n",
    "            return audio_tensor, class_id,class_id_1\n",
    "\n",
    "        \n",
    "wav_dataset=wav2vect_DS(mean_fear_5.reset_index())\n",
    "\n",
    "\n"
   ]
  },
  {
   "cell_type": "code",
   "execution_count": 1270,
   "id": "42957597",
   "metadata": {},
   "outputs": [],
   "source": [
    "#save the tensor file, so don't need to the transformation everytime for training\n",
    "path = '/Users/ywrz/Downloads/voice_labeling_report_21_May_22/processed/sample_list_fear_wav2vec_raw' \n",
    "#path put all the tensor and lable under/sample_test\n",
    "os.makedirs(path, exist_ok = True) \n",
    "# torch.save(tensor , os.path.join(path,'model.pth'))\n",
    "\n",
    "for idx, data in enumerate(wav_dataset_raw):\n",
    "    print(data[0].shape)\n",
    "    torch.save(data, os.path.join(path,f'sample_{idx}'))\n",
    "\n"
   ]
  },
  {
   "cell_type": "code",
   "execution_count": 1287,
   "id": "4d5c17b0",
   "metadata": {},
   "outputs": [],
   "source": [
    "#read from local file\n",
    "dataset2_wav=\\\n",
    "transformed_data('/Users/ywrz/Downloads/voice_labeling_report_21_May_22/processed/sample_list_fear_wav2vec_raw/')"
   ]
  },
  {
   "cell_type": "code",
   "execution_count": 1288,
   "id": "a3228265",
   "metadata": {},
   "outputs": [],
   "source": [
    "#training dataset\n",
    "train_ds_wav, _ = random_split(dataset2_wav, [num_train, 0])\n",
    "train_dl_wav = torch.utils.data.DataLoader(train_ds_wav,batch_size=16, shuffle=True)\n"
   ]
  },
  {
   "cell_type": "markdown",
   "id": "7441d28f",
   "metadata": {},
   "source": [
    "<span style=\"color:red;font-weight:1800;font-size:20px\">\n",
    "M5 model\n",
    "</span>"
   ]
  },
  {
   "cell_type": "code",
   "execution_count": 1289,
   "id": "769fa6ed",
   "metadata": {},
   "outputs": [],
   "source": [
    "import torch.nn.functional as F\n",
    "class M5(nn.Module):\n",
    "    def __init__(self, n_input=1, n_output=5, stride=16, n_channel=32):\n",
    "        super().__init__()\n",
    "        self.conv1 = nn.Conv1d(n_input, n_channel, kernel_size=80, stride=stride)\n",
    "        self.bn1 = nn.BatchNorm1d(n_channel)\n",
    "        self.pool1 = nn.MaxPool1d(4)\n",
    "        self.conv2 = nn.Conv1d(n_channel, n_channel, kernel_size=3)\n",
    "        self.bn2 = nn.BatchNorm1d(n_channel)\n",
    "        self.pool2 = nn.MaxPool1d(4)\n",
    "        self.conv3 = nn.Conv1d(n_channel, 2 * n_channel, kernel_size=3)\n",
    "        self.bn3 = nn.BatchNorm1d(2 * n_channel)\n",
    "        self.pool3 = nn.MaxPool1d(4)\n",
    "        self.conv4 = nn.Conv1d(2 * n_channel, 2 * n_channel, kernel_size=3)\n",
    "        self.bn4 = nn.BatchNorm1d(2 * n_channel)\n",
    "        self.pool4 = nn.MaxPool1d(4)\n",
    "        self.fc1 = nn.Linear(2 * n_channel, n_output)\n",
    "\n",
    "    def forward(self, x):\n",
    "        x = self.conv1(x)\n",
    "        x = F.relu(self.bn1(x))\n",
    "        x = self.pool1(x)\n",
    "        x = self.conv2(x)\n",
    "        x = F.relu(self.bn2(x))\n",
    "        x = self.pool2(x)\n",
    "        x = self.conv3(x)\n",
    "        x = F.relu(self.bn3(x))\n",
    "        x = self.pool3(x)\n",
    "        x = self.conv4(x)\n",
    "        x = F.relu(self.bn4(x))\n",
    "        x = self.pool4(x)\n",
    "        x = F.avg_pool1d(x, x.shape[-1])\n",
    "        x = x.permute(0, 2, 1)\n",
    "        x = self.fc1(x)\n",
    "        return F.log_softmax(x, dim=2)\n",
    "\n",
    "\n",
    "\n",
    "\n"
   ]
  },
  {
   "cell_type": "markdown",
   "id": "148b8eb2",
   "metadata": {},
   "source": [
    "<span style=\"color:red;font-weight:1800;font-size:20px\">\n",
    "Model training\n",
    "</span>"
   ]
  },
  {
   "cell_type": "code",
   "execution_count": 1295,
   "id": "a13a39a3",
   "metadata": {},
   "outputs": [
    {
     "data": {
      "application/vnd.jupyter.widget-view+json": {
       "model_id": "b28cd85339a448eb98b4dd1e44426157",
       "version_major": 2,
       "version_minor": 0
      },
      "text/plain": [
       "  0%|          | 0/264 [00:00<?, ?it/s]"
      ]
     },
     "metadata": {},
     "output_type": "display_data"
    },
    {
     "name": "stdout",
     "output_type": "stream",
     "text": [
      "Epoch: 0, Loss: 0.82, Accuracy: 0.65\n"
     ]
    },
    {
     "data": {
      "application/vnd.jupyter.widget-view+json": {
       "model_id": "898c9af7732d407e87588ba178c146ef",
       "version_major": 2,
       "version_minor": 0
      },
      "text/plain": [
       "  0%|          | 0/264 [00:00<?, ?it/s]"
      ]
     },
     "metadata": {},
     "output_type": "display_data"
    },
    {
     "name": "stdout",
     "output_type": "stream",
     "text": [
      "Epoch: 1, Loss: 0.81, Accuracy: 0.65\n"
     ]
    },
    {
     "data": {
      "application/vnd.jupyter.widget-view+json": {
       "model_id": "eddc585863a64b83be0fb5b7d258e8eb",
       "version_major": 2,
       "version_minor": 0
      },
      "text/plain": [
       "  0%|          | 0/264 [00:00<?, ?it/s]"
      ]
     },
     "metadata": {},
     "output_type": "display_data"
    },
    {
     "name": "stdout",
     "output_type": "stream",
     "text": [
      "Epoch: 2, Loss: 0.80, Accuracy: 0.66\n"
     ]
    },
    {
     "data": {
      "application/vnd.jupyter.widget-view+json": {
       "model_id": "3efffa542d9b43bfb8a900ddafe696d2",
       "version_major": 2,
       "version_minor": 0
      },
      "text/plain": [
       "  0%|          | 0/264 [00:00<?, ?it/s]"
      ]
     },
     "metadata": {},
     "output_type": "display_data"
    },
    {
     "name": "stdout",
     "output_type": "stream",
     "text": [
      "Epoch: 3, Loss: 0.80, Accuracy: 0.66\n"
     ]
    },
    {
     "data": {
      "application/vnd.jupyter.widget-view+json": {
       "model_id": "1ff1f4e93dce4fc5b6e2d5d6cbc5f50b",
       "version_major": 2,
       "version_minor": 0
      },
      "text/plain": [
       "  0%|          | 0/264 [00:00<?, ?it/s]"
      ]
     },
     "metadata": {},
     "output_type": "display_data"
    },
    {
     "name": "stdout",
     "output_type": "stream",
     "text": [
      "Epoch: 4, Loss: 0.80, Accuracy: 0.66\n"
     ]
    },
    {
     "data": {
      "application/vnd.jupyter.widget-view+json": {
       "model_id": "f27b55ce54af485c897d6a9790dde08f",
       "version_major": 2,
       "version_minor": 0
      },
      "text/plain": [
       "  0%|          | 0/264 [00:00<?, ?it/s]"
      ]
     },
     "metadata": {},
     "output_type": "display_data"
    },
    {
     "name": "stdout",
     "output_type": "stream",
     "text": [
      "Epoch: 5, Loss: 0.78, Accuracy: 0.66\n"
     ]
    },
    {
     "data": {
      "application/vnd.jupyter.widget-view+json": {
       "model_id": "ebc5193b29f44af881f7cef0f51a0a32",
       "version_major": 2,
       "version_minor": 0
      },
      "text/plain": [
       "  0%|          | 0/264 [00:00<?, ?it/s]"
      ]
     },
     "metadata": {},
     "output_type": "display_data"
    },
    {
     "name": "stdout",
     "output_type": "stream",
     "text": [
      "Epoch: 6, Loss: 0.78, Accuracy: 0.66\n"
     ]
    },
    {
     "data": {
      "application/vnd.jupyter.widget-view+json": {
       "model_id": "409922f6ab0847f4b3e01fa653b0a991",
       "version_major": 2,
       "version_minor": 0
      },
      "text/plain": [
       "  0%|          | 0/264 [00:00<?, ?it/s]"
      ]
     },
     "metadata": {},
     "output_type": "display_data"
    },
    {
     "name": "stdout",
     "output_type": "stream",
     "text": [
      "Epoch: 7, Loss: 0.78, Accuracy: 0.66\n"
     ]
    },
    {
     "data": {
      "application/vnd.jupyter.widget-view+json": {
       "model_id": "a23a382b3dbf41f58179f332c477f3eb",
       "version_major": 2,
       "version_minor": 0
      },
      "text/plain": [
       "  0%|          | 0/264 [00:00<?, ?it/s]"
      ]
     },
     "metadata": {},
     "output_type": "display_data"
    },
    {
     "name": "stdout",
     "output_type": "stream",
     "text": [
      "Epoch: 8, Loss: 0.79, Accuracy: 0.66\n"
     ]
    },
    {
     "data": {
      "application/vnd.jupyter.widget-view+json": {
       "model_id": "28180a8ee03f47be8aab654babb00b34",
       "version_major": 2,
       "version_minor": 0
      },
      "text/plain": [
       "  0%|          | 0/264 [00:00<?, ?it/s]"
      ]
     },
     "metadata": {},
     "output_type": "display_data"
    },
    {
     "name": "stdout",
     "output_type": "stream",
     "text": [
      "Epoch: 9, Loss: 0.78, Accuracy: 0.66\n"
     ]
    }
   ],
   "source": [
    "\n",
    "# loss_m5_raw=[]\n",
    "# accuracy_m5_raw=[]\n",
    "# ----------------------------\n",
    "# Training Loop\n",
    "# ------------------------------\n",
    "def training_wav2vec(model, train_dl, num_epochs):\n",
    "  # Loss Function, Optimizer and Scheduler\n",
    "    criterion = nn.CrossEntropyLoss()\n",
    "    optimizer = torch.optim.Adam(model.parameters(), lr=0.01, weight_decay=0.0001)\n",
    "    \n",
    "#   scheduler = torch.optim.lr_scheduler.OneCycleLR(optimizer, max_lr=0.001,\n",
    "#                                                 steps_per_epoch=int(len(train_dl)),\n",
    "#                                                 epochs=num_epochs,\n",
    "#                                                 anneal_strategy='linear')\n",
    "\n",
    "  # Repeat for each epoch\n",
    "    for epoch in range(num_epochs):\n",
    "        running_loss = 0.0\n",
    "        correct_prediction = 0\n",
    "        total_prediction = 0\n",
    "\n",
    "    # Repeat for each batch in the training set\n",
    "        \n",
    "        for i, data in enumerate(tqdm_notebook(train_dl)):\n",
    "        # Get the input features and target labels, and put them on the GPU\n",
    "            inputs, labels = data[0], data[1]\n",
    "            \n",
    "        # Normalize the inputs\n",
    "            inputs_m, inputs_s = inputs.mean(), inputs.std()\n",
    "            inputs = (inputs - inputs_m) / inputs_s\n",
    "\n",
    "        # Zero the parameter gradients\n",
    "            optimizer.zero_grad()\n",
    "\n",
    "        # forward + backward + optimize\n",
    "            outputs = model(inputs)\n",
    "            \n",
    "            loss = F.nll_loss(outputs.squeeze(), labels)\n",
    "#             loss = criterion(outputs, labels)\n",
    "            loss.backward()\n",
    "            optimizer.step()\n",
    "            \n",
    "\n",
    "        # Keep stats for Loss and Accuracy\n",
    "            running_loss += loss.item()\n",
    "\n",
    "        # Get the predicted class with the highest score\n",
    "            \n",
    "            _, prediction = torch.max(outputs.squeeze(),1)\n",
    "            \n",
    "            # Count of predictions that matched the target label\n",
    "            correct_prediction += (prediction == labels).sum().item()\n",
    "            total_prediction += prediction.shape[0]\n",
    "\n",
    "        #if i % 10 == 0:    # print every 10 mini-batches\n",
    "        #    print('[%d, %5d] loss: %.3f' % (epoch + 1, i + 1, running_loss / 10))\n",
    "    \n",
    "    # Print stats at the end of the epoch\n",
    "        num_batches = len(train_dl)\n",
    "        avg_loss = running_loss / num_batches\n",
    "        acc = correct_prediction/total_prediction\n",
    "        print(f'Epoch: {epoch}, Loss: {avg_loss:.2f}, Accuracy: {acc:.2f}')\n",
    "        loss_m5_raw.append(avg_loss)\n",
    "        accuracy_m5_raw.append(acc)\n",
    "\n",
    " # Just for demo, adjust this higher.\n",
    "model_m5_raw = M5(1, 4)\n",
    "training_wav2vec(model_m5_raw, train_dl_wav, 10)\n"
   ]
  },
  {
   "cell_type": "code",
   "execution_count": 1296,
   "id": "f789a881",
   "metadata": {},
   "outputs": [
    {
     "data": {
      "text/plain": [
       "<matplotlib.legend.Legend at 0x7fb29e880f70>"
      ]
     },
     "execution_count": 1296,
     "metadata": {},
     "output_type": "execute_result"
    },
    {
     "data": {
      "image/png": "[encoded data removed]",
      "text/plain": [
       "<Figure size 1920x720 with 2 Axes>"
      ]
     },
     "metadata": {
      "needs_background": "light"
     },
     "output_type": "display_data"
    }
   ],
   "source": [
    "#training loss curve using raw waveform data\n",
    "plt.figure(dpi=120,figsize=(16,6))\n",
    "plt.subplot(1, 2, 1) # row 1, col 2 index 1\n",
    "\n",
    "plt.plot(loss_m5_raw, 'b--^', label='train_loss')\n",
    "\n",
    "plt.xlabel(\"Epoch\",size=15)\n",
    "plt.ylabel(\"Avg_loss\",size=15)\n",
    "plt.title(\"m5_fear_raw_wave\")\n",
    "plt.legend(loc='best')\n",
    "\n",
    "plt.subplot(1, 2, 2) # row 1, col 2 index 1\n",
    "plt.plot(accuracy_m5_raw, 'r--^', label='Accuracy')\n",
    "\n",
    "plt.xlabel(\"Epoch\",size=15)\n",
    "plt.ylabel(\"Accuracy\",size=15)\n",
    "plt.title(\"m5_fear_raw_wave\")\n",
    "plt.legend(loc='best')"
   ]
  },
  {
   "cell_type": "code",
   "execution_count": 1306,
   "id": "d3f13bb5",
   "metadata": {},
   "outputs": [
    {
     "data": {
      "text/plain": [
       "<matplotlib.legend.Legend at 0x7fb29fe17fa0>"
      ]
     },
     "execution_count": 1306,
     "metadata": {},
     "output_type": "execute_result"
    },
    {
     "data": {
      "image/png": "[encoded data removed]",
      "text/plain": [
       "<Figure size 1920x720 with 2 Axes>"
      ]
     },
     "metadata": {
      "needs_background": "light"
     },
     "output_type": "display_data"
    }
   ],
   "source": [
    "#training loss curve using wav2vec2.0 feature extracted data\n",
    "plt.figure(dpi=120,figsize=(16,6))\n",
    "plt.subplot(1, 2, 1) # row 1, col 2 index 1\n",
    "\n",
    "plt.plot(loss_m5, 'b--^', label='train_loss')\n",
    "\n",
    "plt.xlabel(\"Epoch\",size=15)\n",
    "plt.ylabel(\"Avg_loss\",size=15)\n",
    "plt.title(\"m5_fear_wav2vec2\")\n",
    "plt.legend(loc='best')\n",
    "\n",
    "plt.subplot(1, 2, 2) # row 1, col 2 index 1\n",
    "plt.plot(accuracy_m5, 'r--^', label='Accuracy')\n",
    "\n",
    "plt.xlabel(\"Epoch\",size=15)\n",
    "plt.ylabel(\"Accuracy\",size=15)\n",
    "plt.title(\"m5_fear_wav2vec2\")\n",
    "plt.legend(loc='best')\n"
   ]
  },
  {
   "cell_type": "markdown",
   "id": "9d007f42",
   "metadata": {},
   "source": [
    "<span style=\"color:red;font-weight:1800;font-size:20px\">\n",
    "Model test the same way as before for 211 samples\n",
    "</span>"
   ]
  },
  {
   "cell_type": "code",
   "execution_count": 1262,
   "id": "f950068c",
   "metadata": {},
   "outputs": [
    {
     "ename": "KeyError",
     "evalue": "1055",
     "output_type": "error",
     "traceback": [
      "\u001b[0;31m---------------------------------------------------------------------------\u001b[0m",
      "\u001b[0;31mValueError\u001b[0m                                Traceback (most recent call last)",
      "\u001b[0;32m~/opt/anaconda3/lib/python3.8/site-packages/pandas/core/indexes/range.py\u001b[0m in \u001b[0;36mget_loc\u001b[0;34m(self, key, method, tolerance)\u001b[0m\n\u001b[1;32m    350\u001b[0m \u001b[0;34m\u001b[0m\u001b[0m\n\u001b[0;32m--> 351\u001b[0;31m     \u001b[0;34m@\u001b[0m\u001b[0mproperty\u001b[0m\u001b[0;34m\u001b[0m\u001b[0;34m\u001b[0m\u001b[0m\n\u001b[0m\u001b[1;32m    352\u001b[0m     \u001b[0;32mdef\u001b[0m \u001b[0mis_unique\u001b[0m\u001b[0;34m(\u001b[0m\u001b[0mself\u001b[0m\u001b[0;34m)\u001b[0m \u001b[0;34m->\u001b[0m \u001b[0mbool\u001b[0m\u001b[0;34m:\u001b[0m\u001b[0;34m\u001b[0m\u001b[0;34m\u001b[0m\u001b[0m\n",
      "\u001b[0;31mValueError\u001b[0m: 1055 is not in range",
      "\nThe above exception was the direct cause of the following exception:\n",
      "\u001b[0;31mKeyError\u001b[0m                                  Traceback (most recent call last)",
      "\u001b[0;32m<ipython-input-1262-5300c4d38a1c>\u001b[0m in \u001b[0;36m<module>\u001b[0;34m\u001b[0m\n\u001b[1;32m      6\u001b[0m \u001b[0;31m# torch.save(tensor , os.path.join(path,'model.pth'))\u001b[0m\u001b[0;34m\u001b[0m\u001b[0;34m\u001b[0m\u001b[0;34m\u001b[0m\u001b[0m\n\u001b[1;32m      7\u001b[0m \u001b[0;34m\u001b[0m\u001b[0m\n\u001b[0;32m----> 8\u001b[0;31m \u001b[0;32mfor\u001b[0m \u001b[0midx\u001b[0m\u001b[0;34m,\u001b[0m \u001b[0mdata\u001b[0m \u001b[0;32min\u001b[0m \u001b[0menumerate\u001b[0m\u001b[0;34m(\u001b[0m\u001b[0mdataset_test\u001b[0m\u001b[0;34m)\u001b[0m\u001b[0;34m:\u001b[0m\u001b[0;34m\u001b[0m\u001b[0;34m\u001b[0m\u001b[0m\n\u001b[0m\u001b[1;32m      9\u001b[0m \u001b[0;34m\u001b[0m\u001b[0m\n\u001b[1;32m     10\u001b[0m     \u001b[0mtorch\u001b[0m\u001b[0;34m.\u001b[0m\u001b[0msave\u001b[0m\u001b[0;34m(\u001b[0m\u001b[0mdata\u001b[0m\u001b[0;34m,\u001b[0m \u001b[0mos\u001b[0m\u001b[0;34m.\u001b[0m\u001b[0mpath\u001b[0m\u001b[0;34m.\u001b[0m\u001b[0mjoin\u001b[0m\u001b[0;34m(\u001b[0m\u001b[0mpath\u001b[0m\u001b[0;34m,\u001b[0m\u001b[0;34mf'sample_{idx}'\u001b[0m\u001b[0;34m)\u001b[0m\u001b[0;34m)\u001b[0m\u001b[0;34m\u001b[0m\u001b[0;34m\u001b[0m\u001b[0m\n",
      "\u001b[0;32m<ipython-input-1247-e17994c00586>\u001b[0m in \u001b[0;36m__getitem__\u001b[0;34m(self, idx)\u001b[0m\n\u001b[1;32m     21\u001b[0m     \u001b[0;31m# Absolute file path of the audio file - concatenate the audio directory with\u001b[0m\u001b[0;34m\u001b[0m\u001b[0;34m\u001b[0m\u001b[0;34m\u001b[0m\u001b[0m\n\u001b[1;32m     22\u001b[0m     \u001b[0;31m# the relative path\u001b[0m\u001b[0;34m\u001b[0m\u001b[0;34m\u001b[0m\u001b[0;34m\u001b[0m\u001b[0m\n\u001b[0;32m---> 23\u001b[0;31m         \u001b[0maudio_file\u001b[0m \u001b[0;34m=\u001b[0m \u001b[0mself\u001b[0m\u001b[0;34m.\u001b[0m\u001b[0mdata_path\u001b[0m \u001b[0;34m+\u001b[0m \u001b[0mself\u001b[0m\u001b[0;34m.\u001b[0m\u001b[0mprefix\u001b[0m\u001b[0;34m+\u001b[0m \u001b[0mself\u001b[0m\u001b[0;34m.\u001b[0m\u001b[0mdf\u001b[0m\u001b[0;34m.\u001b[0m\u001b[0mloc\u001b[0m\u001b[0;34m[\u001b[0m\u001b[0midx\u001b[0m\u001b[0;34m,\u001b[0m \u001b[0;34m'path'\u001b[0m\u001b[0;34m]\u001b[0m\u001b[0;34m\u001b[0m\u001b[0;34m\u001b[0m\u001b[0m\n\u001b[0m\u001b[1;32m     24\u001b[0m \u001b[0;34m\u001b[0m\u001b[0m\n\u001b[1;32m     25\u001b[0m     \u001b[0;31m# Get the Class ID\u001b[0m\u001b[0;34m\u001b[0m\u001b[0;34m\u001b[0m\u001b[0;34m\u001b[0m\u001b[0m\n",
      "\u001b[0;32m~/opt/anaconda3/lib/python3.8/site-packages/pandas/core/indexing.py\u001b[0m in \u001b[0;36m__getitem__\u001b[0;34m(self, key)\u001b[0m\n\u001b[1;32m    871\u001b[0m                 \u001b[0;31m#  is_scalar_access, which that would be.\u001b[0m\u001b[0;34m\u001b[0m\u001b[0;34m\u001b[0m\u001b[0;34m\u001b[0m\u001b[0m\n\u001b[1;32m    872\u001b[0m                 \u001b[0;32mif\u001b[0m \u001b[0msection\u001b[0m\u001b[0;34m.\u001b[0m\u001b[0mndim\u001b[0m \u001b[0;34m==\u001b[0m \u001b[0mself\u001b[0m\u001b[0;34m.\u001b[0m\u001b[0mndim\u001b[0m\u001b[0;34m:\u001b[0m\u001b[0;34m\u001b[0m\u001b[0;34m\u001b[0m\u001b[0m\n\u001b[0;32m--> 873\u001b[0;31m                     \u001b[0;31m# we're in the middle of slicing through a MultiIndex\u001b[0m\u001b[0;34m\u001b[0m\u001b[0;34m\u001b[0m\u001b[0;34m\u001b[0m\u001b[0m\n\u001b[0m\u001b[1;32m    874\u001b[0m                     \u001b[0;31m# revise the key wrt to `section` by inserting an _NS\u001b[0m\u001b[0;34m\u001b[0m\u001b[0;34m\u001b[0m\u001b[0;34m\u001b[0m\u001b[0m\n\u001b[1;32m    875\u001b[0m                     \u001b[0mnew_key\u001b[0m \u001b[0;34m=\u001b[0m \u001b[0mtup\u001b[0m\u001b[0;34m[\u001b[0m\u001b[0;34m:\u001b[0m\u001b[0mi\u001b[0m\u001b[0;34m]\u001b[0m \u001b[0;34m+\u001b[0m \u001b[0;34m(\u001b[0m\u001b[0m_NS\u001b[0m\u001b[0;34m,\u001b[0m\u001b[0;34m)\u001b[0m \u001b[0;34m+\u001b[0m \u001b[0mtup\u001b[0m\u001b[0;34m[\u001b[0m\u001b[0mi\u001b[0m \u001b[0;34m+\u001b[0m \u001b[0;36m1\u001b[0m \u001b[0;34m:\u001b[0m\u001b[0;34m]\u001b[0m\u001b[0;34m\u001b[0m\u001b[0;34m\u001b[0m\u001b[0m\n",
      "\u001b[0;32m~/opt/anaconda3/lib/python3.8/site-packages/pandas/core/indexing.py\u001b[0m in \u001b[0;36m_getitem_tuple\u001b[0;34m(self, tup)\u001b[0m\n\u001b[1;32m   1042\u001b[0m                 \u001b[0;32mreturn\u001b[0m \u001b[0;32mFalse\u001b[0m\u001b[0;34m\u001b[0m\u001b[0;34m\u001b[0m\u001b[0m\n\u001b[1;32m   1043\u001b[0m \u001b[0;34m\u001b[0m\u001b[0m\n\u001b[0;32m-> 1044\u001b[0;31m             \u001b[0;32mif\u001b[0m \u001b[0misinstance\u001b[0m\u001b[0;34m(\u001b[0m\u001b[0mk\u001b[0m\u001b[0;34m,\u001b[0m \u001b[0mstr\u001b[0m\u001b[0;34m)\u001b[0m \u001b[0;32mand\u001b[0m \u001b[0max\u001b[0m\u001b[0;34m.\u001b[0m\u001b[0m_supports_partial_string_indexing\u001b[0m\u001b[0;34m:\u001b[0m\u001b[0;34m\u001b[0m\u001b[0;34m\u001b[0m\u001b[0m\n\u001b[0m\u001b[1;32m   1045\u001b[0m                 \u001b[0;31m# partial string indexing, df.loc['2000', 'A']\u001b[0m\u001b[0;34m\u001b[0m\u001b[0;34m\u001b[0m\u001b[0;34m\u001b[0m\u001b[0m\n\u001b[1;32m   1046\u001b[0m                 \u001b[0;31m# should not be considered scalar\u001b[0m\u001b[0;34m\u001b[0m\u001b[0;34m\u001b[0m\u001b[0;34m\u001b[0m\u001b[0m\n",
      "\u001b[0;32m~/opt/anaconda3/lib/python3.8/site-packages/pandas/core/indexing.py\u001b[0m in \u001b[0;36m_getitem_lowerdim\u001b[0;34m(self, tup)\u001b[0m\n\u001b[1;32m    784\u001b[0m             \u001b[0;32mreturn\u001b[0m \u001b[0many\u001b[0m\u001b[0;34m(\u001b[0m\u001b[0mis_nested_tuple\u001b[0m\u001b[0;34m(\u001b[0m\u001b[0mtup\u001b[0m\u001b[0;34m,\u001b[0m \u001b[0max\u001b[0m\u001b[0;34m)\u001b[0m \u001b[0;32mfor\u001b[0m \u001b[0max\u001b[0m \u001b[0;32min\u001b[0m \u001b[0mself\u001b[0m\u001b[0;34m.\u001b[0m\u001b[0mobj\u001b[0m\u001b[0;34m.\u001b[0m\u001b[0maxes\u001b[0m\u001b[0;34m)\u001b[0m\u001b[0;34m\u001b[0m\u001b[0;34m\u001b[0m\u001b[0m\n\u001b[1;32m    785\u001b[0m         \u001b[0;32mreturn\u001b[0m \u001b[0;32mFalse\u001b[0m\u001b[0;34m\u001b[0m\u001b[0;34m\u001b[0m\u001b[0m\n\u001b[0;32m--> 786\u001b[0;31m \u001b[0;34m\u001b[0m\u001b[0m\n\u001b[0m\u001b[1;32m    787\u001b[0m     \u001b[0;32mdef\u001b[0m \u001b[0m_convert_tuple\u001b[0m\u001b[0;34m(\u001b[0m\u001b[0mself\u001b[0m\u001b[0;34m,\u001b[0m \u001b[0mkey\u001b[0m\u001b[0;34m)\u001b[0m\u001b[0;34m:\u001b[0m\u001b[0;34m\u001b[0m\u001b[0;34m\u001b[0m\u001b[0m\n\u001b[1;32m    788\u001b[0m         \u001b[0mkeyidx\u001b[0m \u001b[0;34m=\u001b[0m \u001b[0;34m[\u001b[0m\u001b[0;34m]\u001b[0m\u001b[0;34m\u001b[0m\u001b[0;34m\u001b[0m\u001b[0m\n",
      "\u001b[0;32m~/opt/anaconda3/lib/python3.8/site-packages/pandas/core/indexing.py\u001b[0m in \u001b[0;36m_getitem_axis\u001b[0;34m(self, key, axis)\u001b[0m\n\u001b[1;32m   1108\u001b[0m         \u001b[0mIndex\u001b[0m \u001b[0mcurrent\u001b[0m \u001b[0mobject\u001b[0m \u001b[0;32mwith\u001b[0m \u001b[0man\u001b[0m \u001b[0miterable\u001b[0m \u001b[0mcollection\u001b[0m \u001b[0mof\u001b[0m \u001b[0mkeys\u001b[0m\u001b[0;34m.\u001b[0m\u001b[0;34m\u001b[0m\u001b[0;34m\u001b[0m\u001b[0m\n\u001b[1;32m   1109\u001b[0m \u001b[0;34m\u001b[0m\u001b[0m\n\u001b[0;32m-> 1110\u001b[0;31m         \u001b[0mParameters\u001b[0m\u001b[0;34m\u001b[0m\u001b[0;34m\u001b[0m\u001b[0m\n\u001b[0m\u001b[1;32m   1111\u001b[0m         \u001b[0;34m-\u001b[0m\u001b[0;34m-\u001b[0m\u001b[0;34m-\u001b[0m\u001b[0;34m-\u001b[0m\u001b[0;34m-\u001b[0m\u001b[0;34m-\u001b[0m\u001b[0;34m-\u001b[0m\u001b[0;34m-\u001b[0m\u001b[0;34m-\u001b[0m\u001b[0;34m-\u001b[0m\u001b[0;34m\u001b[0m\u001b[0;34m\u001b[0m\u001b[0m\n\u001b[1;32m   1112\u001b[0m         \u001b[0mkey\u001b[0m \u001b[0;34m:\u001b[0m \u001b[0miterable\u001b[0m\u001b[0;34m\u001b[0m\u001b[0;34m\u001b[0m\u001b[0m\n",
      "\u001b[0;32m~/opt/anaconda3/lib/python3.8/site-packages/pandas/core/indexing.py\u001b[0m in \u001b[0;36m_get_label\u001b[0;34m(self, label, axis)\u001b[0m\n\u001b[1;32m   1057\u001b[0m     \u001b[0;32mdef\u001b[0m \u001b[0m_multi_take_opportunity\u001b[0m\u001b[0;34m(\u001b[0m\u001b[0mself\u001b[0m\u001b[0;34m,\u001b[0m \u001b[0mtup\u001b[0m\u001b[0;34m:\u001b[0m \u001b[0mtuple\u001b[0m\u001b[0;34m)\u001b[0m \u001b[0;34m->\u001b[0m \u001b[0mbool\u001b[0m\u001b[0;34m:\u001b[0m\u001b[0;34m\u001b[0m\u001b[0;34m\u001b[0m\u001b[0m\n\u001b[1;32m   1058\u001b[0m         \"\"\"\n\u001b[0;32m-> 1059\u001b[0;31m         \u001b[0mCheck\u001b[0m \u001b[0mwhether\u001b[0m \u001b[0mthere\u001b[0m \u001b[0;32mis\u001b[0m \u001b[0mthe\u001b[0m \u001b[0mpossibility\u001b[0m \u001b[0mto\u001b[0m \u001b[0muse\u001b[0m\u001b[0;31m \u001b[0m\u001b[0;31m`\u001b[0m\u001b[0;31m`\u001b[0m\u001b[0m_multi_take\u001b[0m\u001b[0;31m`\u001b[0m\u001b[0;31m`\u001b[0m\u001b[0;34m.\u001b[0m\u001b[0;34m\u001b[0m\u001b[0;34m\u001b[0m\u001b[0m\n\u001b[0m\u001b[1;32m   1060\u001b[0m \u001b[0;34m\u001b[0m\u001b[0m\n\u001b[1;32m   1061\u001b[0m         \u001b[0mCurrently\u001b[0m \u001b[0mthe\u001b[0m \u001b[0mlimit\u001b[0m \u001b[0;32mis\u001b[0m \u001b[0mthat\u001b[0m \u001b[0mall\u001b[0m \u001b[0maxes\u001b[0m \u001b[0mbeing\u001b[0m \u001b[0mindexed\u001b[0m\u001b[0;34m,\u001b[0m \u001b[0mmust\u001b[0m \u001b[0mbe\u001b[0m \u001b[0mindexed\u001b[0m \u001b[0;32mwith\u001b[0m\u001b[0;34m\u001b[0m\u001b[0;34m\u001b[0m\u001b[0m\n",
      "\u001b[0;32m~/opt/anaconda3/lib/python3.8/site-packages/pandas/core/generic.py\u001b[0m in \u001b[0;36mxs\u001b[0;34m(self, key, axis, level, drop_level)\u001b[0m\n\u001b[1;32m   3480\u001b[0m             \u001b[0mRows\u001b[0m \u001b[0mto\u001b[0m \u001b[0mwrite\u001b[0m \u001b[0mat\u001b[0m \u001b[0ma\u001b[0m \u001b[0mtime\u001b[0m\u001b[0;34m.\u001b[0m\u001b[0;34m\u001b[0m\u001b[0;34m\u001b[0m\u001b[0m\n\u001b[1;32m   3481\u001b[0m         \u001b[0mdate_format\u001b[0m \u001b[0;34m:\u001b[0m \u001b[0mstr\u001b[0m\u001b[0;34m,\u001b[0m \u001b[0mdefault\u001b[0m \u001b[0;32mNone\u001b[0m\u001b[0;34m\u001b[0m\u001b[0;34m\u001b[0m\u001b[0m\n\u001b[0;32m-> 3482\u001b[0;31m             \u001b[0mFormat\u001b[0m \u001b[0mstring\u001b[0m \u001b[0;32mfor\u001b[0m \u001b[0mdatetime\u001b[0m \u001b[0mobjects\u001b[0m\u001b[0;34m.\u001b[0m\u001b[0;34m\u001b[0m\u001b[0;34m\u001b[0m\u001b[0m\n\u001b[0m\u001b[1;32m   3483\u001b[0m         \u001b[0mdoublequote\u001b[0m \u001b[0;34m:\u001b[0m \u001b[0mbool\u001b[0m\u001b[0;34m,\u001b[0m \u001b[0mdefault\u001b[0m \u001b[0;32mTrue\u001b[0m\u001b[0;34m\u001b[0m\u001b[0;34m\u001b[0m\u001b[0m\n\u001b[1;32m   3484\u001b[0m             \u001b[0mControl\u001b[0m \u001b[0mquoting\u001b[0m \u001b[0mof\u001b[0m\u001b[0;31m \u001b[0m\u001b[0;31m`\u001b[0m\u001b[0mquotechar\u001b[0m\u001b[0;31m`\u001b[0m \u001b[0minside\u001b[0m \u001b[0ma\u001b[0m \u001b[0mfield\u001b[0m\u001b[0;34m.\u001b[0m\u001b[0;34m\u001b[0m\u001b[0;34m\u001b[0m\u001b[0m\n",
      "\u001b[0;32m~/opt/anaconda3/lib/python3.8/site-packages/pandas/core/indexes/range.py\u001b[0m in \u001b[0;36mget_loc\u001b[0;34m(self, key, method, tolerance)\u001b[0m\n\u001b[1;32m    351\u001b[0m     \u001b[0;34m@\u001b[0m\u001b[0mproperty\u001b[0m\u001b[0;34m\u001b[0m\u001b[0;34m\u001b[0m\u001b[0m\n\u001b[1;32m    352\u001b[0m     \u001b[0;32mdef\u001b[0m \u001b[0mis_unique\u001b[0m\u001b[0;34m(\u001b[0m\u001b[0mself\u001b[0m\u001b[0;34m)\u001b[0m \u001b[0;34m->\u001b[0m \u001b[0mbool\u001b[0m\u001b[0;34m:\u001b[0m\u001b[0;34m\u001b[0m\u001b[0;34m\u001b[0m\u001b[0m\n\u001b[0;32m--> 353\u001b[0;31m         \u001b[0;34m\"\"\"return if the index has unique values\"\"\"\u001b[0m\u001b[0;34m\u001b[0m\u001b[0;34m\u001b[0m\u001b[0m\n\u001b[0m\u001b[1;32m    354\u001b[0m         \u001b[0;32mreturn\u001b[0m \u001b[0;32mTrue\u001b[0m\u001b[0;34m\u001b[0m\u001b[0;34m\u001b[0m\u001b[0m\n\u001b[1;32m    355\u001b[0m \u001b[0;34m\u001b[0m\u001b[0m\n",
      "\u001b[0;31mKeyError\u001b[0m: 1055"
     ]
    }
   ],
   "source": [
    "#dataset generation\n",
    "combwav_fear_test=pd.concat([mean_fear_test,mean_fear_test,mean_fear_test,mean_fear_test,mean_fear_test])\n",
    "dataset_test=wav2vect_DS(combwav_fear_test.reset_index())\n",
    "path = '/Users/ywrz/Downloads/voice_labeling_report_21_May_22/processed/sample_list_wav_fear_test' \n",
    "\n",
    "os.makedirs(path, exist_ok = True) \n",
    "# torch.save(tensor , os.path.join(path,'model.pth'))\n",
    "\n",
    "for idx, data in enumerate(dataset_test):\n",
    "\n",
    "    torch.save(data, os.path.join(path,f'sample_{idx}'))\n"
   ]
  },
  {
   "cell_type": "code",
   "execution_count": 1263,
   "id": "54ee292e",
   "metadata": {},
   "outputs": [],
   "source": [
    "#dataset reading from locally saved files\n",
    "dataset2_wave_test=transformed_data('/Users/ywrz/Downloads/voice_labeling_report_21_May_22/processed/sample_list_wav_fear_test')\n",
    "\n",
    "train_ds_test, val_ds_test = random_split(dataset2_wave_test, [0, 1055])\n",
    "\n",
    "val_dl_test = torch.utils.data.DataLoader(val_ds_test,batch_size=1055, shuffle=False) \n"
   ]
  },
  {
   "cell_type": "code",
   "execution_count": 1264,
   "id": "f8ff3202",
   "metadata": {},
   "outputs": [
    {
     "name": "stdout",
     "output_type": "stream",
     "text": [
      "Accuracy: 0.52, Total items: 1055\n"
     ]
    }
   ],
   "source": [
    "#model prediction raw accuracy\n",
    "\n",
    "correct_prediction = 0\n",
    "total_prediction = 0\n",
    "\n",
    "with torch.no_grad():\n",
    "    for data in val_dl_test:\n",
    "      # Get the input features and target labels, and put them on the GPU\n",
    "        inputs, labels = data[0], data[1]\n",
    "\n",
    "      # Normalize the inputs\n",
    "        inputs_m, inputs_s = inputs.mean(), inputs.std()\n",
    "        inputs = (inputs - inputs_m) / inputs_s\n",
    "      # Get predictions\n",
    "        outputs = model_m5(inputs)\n",
    "\n",
    "      # Get the predicted class with the highest score\n",
    "#         _, prediction = torch.max(outputs,1)\n",
    "      # Count of predictions that matched the target label\n",
    "        _, prediction = torch.max(outputs.squeeze(),1)\n",
    "        correct_prediction += (prediction == labels).sum().item()\n",
    "        total_prediction += prediction.shape[0]\n",
    "    \n",
    "acc = correct_prediction/total_prediction\n",
    "print(f'Accuracy: {acc:.2f}, Total items: {total_prediction}')"
   ]
  },
  {
   "cell_type": "code",
   "execution_count": 1265,
   "id": "6501ec86",
   "metadata": {},
   "outputs": [
    {
     "data": {
      "text/plain": [
       "0.5497630331753555"
      ]
     },
     "execution_count": 1265,
     "metadata": {},
     "output_type": "execute_result"
    }
   ],
   "source": [
    "#model prediction final accuracy\n",
    "\n",
    "test_prediction = ({\n",
    "    '.wav':wav,\n",
    "    'pred_1' : prediction,\n",
    "    \n",
    "    'true_label':labels\n",
    "               })\n",
    "test_prediction = pd.DataFrame(test_prediction)\n",
    "a=test_prediction.groupby('.wav').agg({'pred_1': lambda x:x.value_counts().index[0],\n",
    "                                       'true_label': lambda x:x.value_counts().index[0]}).reset_index()\n",
    "\n",
    "(a['pred_1']==a['true_label']).sum()/211"
   ]
  },
  {
   "cell_type": "markdown",
   "id": "cc14fce4",
   "metadata": {},
   "source": [
    "<span style=\"color:red;font-weight:1800;font-size:30px\">\n",
    "Final results from CNN model\n",
    "</span><br/><br/>\n"
   ]
  },
  {
   "cell_type": "code",
   "execution_count": 25,
   "id": "6e6a5907",
   "metadata": {},
   "outputs": [
    {
     "data": {
      "text/html": [
       "<div>\n",
       "<style scoped>\n",
       "    .dataframe tbody tr th:only-of-type {\n",
       "        vertical-align: middle;\n",
       "    }\n",
       "\n",
       "    .dataframe tbody tr th {\n",
       "        vertical-align: top;\n",
       "    }\n",
       "\n",
       "    .dataframe thead th {\n",
       "        text-align: right;\n",
       "    }\n",
       "</style>\n",
       "<table border=\"1\" class=\"dataframe\">\n",
       "  <thead>\n",
       "    <tr style=\"text-align: right;\">\n",
       "      <th></th>\n",
       "      <th>emotions</th>\n",
       "      <th>raw accuracy</th>\n",
       "      <th>final_accuracy</th>\n",
       "    </tr>\n",
       "  </thead>\n",
       "  <tbody>\n",
       "    <tr>\n",
       "      <th>0</th>\n",
       "      <td>sadness</td>\n",
       "      <td>0.54</td>\n",
       "      <td>0.59</td>\n",
       "    </tr>\n",
       "    <tr>\n",
       "      <th>1</th>\n",
       "      <td>anger</td>\n",
       "      <td>0.58</td>\n",
       "      <td>0.64</td>\n",
       "    </tr>\n",
       "    <tr>\n",
       "      <th>2</th>\n",
       "      <td>fear</td>\n",
       "      <td>0.61</td>\n",
       "      <td>0.67</td>\n",
       "    </tr>\n",
       "  </tbody>\n",
       "</table>\n",
       "</div>"
      ],
      "text/plain": [
       "  emotions  raw accuracy  final_accuracy\n",
       "0  sadness          0.54            0.59\n",
       "1    anger          0.58            0.64\n",
       "2     fear          0.61            0.67"
      ]
     },
     "metadata": {},
     "output_type": "display_data"
    }
   ],
   "source": [
    "table=pd.DataFrame({'emotions':['sadness','anger','fear'],'raw accuracy':[0.54,0.58,0.61],'final_accuracy':[0.59,0.64,0.67]})\n",
    "display(table)"
   ]
  }
 ],
 "metadata": {
  "kernelspec": {
   "display_name": "Python 3",
   "language": "python",
   "name": "python3"
  },
  "language_info": {
   "codemirror_mode": {
    "name": "ipython",
    "version": 3
   },
   "file_extension": ".py",
   "mimetype": "text/x-python",
   "name": "python",
   "nbconvert_exporter": "python",
   "pygments_lexer": "ipython3",
   "version": "3.8.8"
  }
 },
 "nbformat": 4,
 "nbformat_minor": 5
}
